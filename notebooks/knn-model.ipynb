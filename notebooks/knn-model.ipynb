{
 "cells": [
  {
   "cell_type": "code",
   "execution_count": 6,
   "metadata": {},
   "outputs": [],
   "source": [
    "import pandas as pd\n",
    "import numpy as np\n",
    "from sklearn.feature_extraction.text import TfidfVectorizer\n",
    "import nltk\n",
    "from nltk.corpus import wordnet \n",
    "from nltk.corpus import stopwords\n",
    "# nltk.download('wordnet')\n",
    "# nltk.download('stopwords')\n",
    "import string\n",
    "import matplotlib.pyplot as plt\n",
    "import os\n",
    "import matplotlib.pyplot as plt\n",
    "import matplotlib.image as mpimg\n",
    "from tqdm import tqdm_notebook"
   ]
  },
  {
   "cell_type": "code",
   "execution_count": 7,
   "metadata": {},
   "outputs": [],
   "source": [
    "# utility functions\n",
    "\n",
    "# display image from thumbnails folder given list of ids\n",
    "def show_images(imgids):\n",
    "    for img in imgids:\n",
    "        try:\n",
    "            plt.figure();\n",
    "            img=mpimg.imread('../data/thumbnail/'+img+'.jpg')\n",
    "            imgplot = plt.imshow(img);\n",
    "        except:\n",
    "            plt.close()\n",
    "            print(img)\n",
    "    plt.show()"
   ]
  },
  {
   "cell_type": "code",
   "execution_count": 8,
   "metadata": {},
   "outputs": [],
   "source": [
    "# KNN model\n",
    "class KNN():\n",
    "    # @param k: number of neighbors to return\n",
    "    def __init__(self, k, article_to_image):\n",
    "        self.k = k\n",
    "        self.article_to_image = article_to_image\n",
    "\n",
    "    # @param train: training set of articles\n",
    "    # @article_to_image: map of images associated with each article\n",
    "    def fit(self, train):\n",
    "        self.train = train\n",
    "\n",
    "    # returns number of normalized exact tag overlap\n",
    "    def baseline_score(self,t0,t1):\n",
    "        return len(set(t0) & set(t1))/len(t0)\n",
    "\n",
    "    # @param sim: function to return similarity score\n",
    "    # @param test: article to predict in form (id, tags)\n",
    "    # TODO: implement sep functions for text train and image train\n",
    "    def predict(self, test_tags):\n",
    "        ranks = {}\n",
    "        train = self.train.copy()\n",
    "        train_ids, train_tags_all = train.index, train.values\n",
    "\n",
    "        # go through ids\n",
    "        for ind in range(len(train_ids)):\n",
    "            train_id, train_tags = train_ids[ind], train_tags_all[ind]\n",
    "            s = self.baseline_score(train_tags, test_tags)\n",
    "            if len(ranks) < self.k:\n",
    "                ranks[len(ranks)] = (train_id, s)\n",
    "            elif s > min(ranks.values(), key=lambda x:x[1])[1]:\n",
    "                key = min(ranks.keys(), key=lambda x:ranks[x][1])\n",
    "                ranks[key] = (train_id, s)\n",
    "        ranks = sorted(ranks.values(), key = lambda x:x[1], reverse=True)\n",
    "\n",
    "        # map to predicted images\n",
    "        train_ids = []\n",
    "        pred = {}\n",
    "        for train_id, s in ranks:\n",
    "            img_ids = self.article_to_image[str(train_id)]\n",
    "            for img_id in img_ids:\n",
    "                pred[img_id] = s\n",
    "            train_ids.append(train_id)\n",
    "        return train_ids, pred\n",
    "\n",
    "    def score(self):\n",
    "        pass"
   ]
  },
  {
   "cell_type": "code",
   "execution_count": 9,
   "metadata": {},
   "outputs": [
    {
     "data": {
      "application/vnd.jupyter.widget-view+json": {
       "model_id": "ce5b914a56314ec28c7dfd0af1708228",
       "version_major": 2,
       "version_minor": 0
      },
      "text/plain": [
       "HBox(children=(IntProgress(value=0, max=20), HTML(value='')))"
      ]
     },
     "metadata": {},
     "output_type": "display_data"
    },
    {
     "name": "stdout",
     "output_type": "stream",
     "text": [
      "\n"
     ]
    }
   ],
   "source": [
    "# clean training data \n",
    "datadir = '../data/clean_data/'\n",
    "\n",
    "tag_ref = {'ap_category':'category_code',\n",
    "           'event':'event_tag',\n",
    "           'org':'org_tag',\n",
    "           'org_industry':'org_industry_tag',\n",
    "           'person':'person_tag',\n",
    "           'person_team':'person_team_tag',\n",
    "           'person_type':'person_type',\n",
    "           'place':'place_tag',\n",
    "           'subject':'subject_tag',\n",
    "           'summary':'headline_extended'\n",
    "          }\n",
    "\n",
    "article_feat_csvs = ['article_person.csv','article_org.csv','article_place.csv','article_subject.csv']\n",
    "train = pd.Series([])\n",
    "for csv_file in tqdm_notebook(os.listdir(datadir)):\n",
    "    if csv_file in article_feat_csvs: \n",
    "        df = pd.read_csv(datadir+csv_file)\n",
    "        feat = csv_file[8:-4]\n",
    "        g = df.groupby(\"id\")[tag_ref[feat]]\n",
    "        if train.empty:\n",
    "            train = g.apply(lambda x: list(x.astype(str).str.lower()))\n",
    "        else:\n",
    "            g = g.apply(lambda x: list(x.astype(str).str.lower()))\n",
    "            train = train.combine(g, lambda x1, x2: list(set(x1+x2)), fill_value=[])"
   ]
  },
  {
   "cell_type": "code",
   "execution_count": 11,
   "metadata": {},
   "outputs": [],
   "source": [
    "# images associated with an article\n",
    "df = pd.read_csv(datadir + 'image_summary.csv')\n",
    "g = df.groupby(\"article_idx\")['id']\n",
    "article_images = g.apply(list).to_dict()"
   ]
  },
  {
   "cell_type": "code",
   "execution_count": null,
   "metadata": {},
   "outputs": [],
   "source": [
    "# knn example use case\n",
    "# predict for first article\n",
    "\n",
    "# test article\n",
    "test = ['obama']\n",
    "print(test)\n",
    "\n",
    "model = KNN(3, article_images)\n",
    "model.fit(train)\n",
    "preds = model.predict(test)\n",
    "print(preds)\n",
    "show_images(preds)"
   ]
  }
 ],
 "metadata": {
  "kernelspec": {
   "display_name": "Python 3",
   "language": "python",
   "name": "python3"
  },
  "language_info": {
   "codemirror_mode": {
    "name": "ipython",
    "version": 3
   },
   "file_extension": ".py",
   "mimetype": "text/x-python",
   "name": "python",
   "nbconvert_exporter": "python",
   "pygments_lexer": "ipython3",
   "version": "3.7.0"
  }
 },
 "nbformat": 4,
 "nbformat_minor": 2
}
