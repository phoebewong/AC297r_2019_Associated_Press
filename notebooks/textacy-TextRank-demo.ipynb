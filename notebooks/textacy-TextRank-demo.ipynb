{
 "cells": [
  {
   "cell_type": "code",
   "execution_count": 1,
   "metadata": {},
   "outputs": [],
   "source": [
    "import os\n",
    "import sys\n",
    "import json\n",
    "module_path = os.path.abspath(os.path.join('..'))\n",
    "if module_path not in sys.path:\n",
    "    sys.path.append(module_path)\n",
    "# sys.path.append('/Users/pwong/Documents/AC297r_2019_Associated_Press/env/lib/python3.6/site-package')\n",
    "# sys.path.append('/Users/pwong/anaconda3/bin')\n",
    "\n",
    "import textacy\n",
    "import pandas as pd\n",
    "import numpy as np"
   ]
  },
  {
   "cell_type": "code",
   "execution_count": 2,
   "metadata": {},
   "outputs": [],
   "source": [
    "from src.nlp_util.textacy_util import *"
   ]
  },
  {
   "cell_type": "code",
   "execution_count": 3,
   "metadata": {},
   "outputs": [],
   "source": [
    "%load_ext autoreload\n",
    "%autoreload 2"
   ]
  },
  {
   "cell_type": "code",
   "execution_count": 58,
   "metadata": {},
   "outputs": [],
   "source": [
    "art_sub = pd.read_csv(\"../data/clean_data/article_subject.csv\")\n",
    "art_person = pd.read_csv(\"../data/clean_data/article_person.csv\")\n",
    "art_place = pd.read_csv(\"../data/clean_data/article_place.csv\")\n",
    "art_org = pd.read_csv(\"../data/clean_data/article_org.csv\")"
   ]
  },
  {
   "cell_type": "code",
   "execution_count": 72,
   "metadata": {},
   "outputs": [],
   "source": [
    "art_sub['type'] = 'subject'\n",
    "art_person['type'] = 'person'\n",
    "art_place['type'] = 'place'\n",
    "art_org['type'] = 'org'\n",
    "\n",
    "art_sub = art_sub.rename(columns={\"subject_tag\": \"tag\", \"subject_tag_relation\": \"tag_relation\", \"subject_tag_code\": \"tag_code\"})\n",
    "art_person = art_person.rename(columns={\"person_tag\": \"tag\", \"person_tag_relation\": \"tag_relation\", \"person_tag_code\": \"tag_code\"})\n",
    "art_place = art_place.rename(columns={\"place_tag\": \"tag\", \"place_tag_relation\": \"tag_relation\", \"place_tag_code\": \"tag_code\"})\n",
    "art_org = art_org.rename(columns={\"org_tag\": \"tag\", \"org_tag_relation\": \"tag_relation\", \"org_tag_code\": \"tag_code\"})\n",
    "\n",
    "art_alltags = pd.concat([art_sub, art_person, art_place, art_org])"
   ]
  },
  {
   "cell_type": "code",
   "execution_count": 73,
   "metadata": {},
   "outputs": [
    {
     "data": {
      "text/html": [
       "<div>\n",
       "<style scoped>\n",
       "    .dataframe tbody tr th:only-of-type {\n",
       "        vertical-align: middle;\n",
       "    }\n",
       "\n",
       "    .dataframe tbody tr th {\n",
       "        vertical-align: top;\n",
       "    }\n",
       "\n",
       "    .dataframe thead th {\n",
       "        text-align: right;\n",
       "    }\n",
       "</style>\n",
       "<table border=\"1\" class=\"dataframe\">\n",
       "  <thead>\n",
       "    <tr style=\"text-align: right;\">\n",
       "      <th></th>\n",
       "      <th>id</th>\n",
       "      <th>tag</th>\n",
       "      <th>tag_relation</th>\n",
       "      <th>tag_code</th>\n",
       "      <th>type</th>\n",
       "    </tr>\n",
       "  </thead>\n",
       "  <tbody>\n",
       "    <tr>\n",
       "      <th>0</th>\n",
       "      <td>964285bee74e430cb22441e59a968e76</td>\n",
       "      <td>General news</td>\n",
       "      <td>direct_ancestor</td>\n",
       "      <td>f25af2d07e4e100484f5df092526b43e</td>\n",
       "      <td>subject</td>\n",
       "    </tr>\n",
       "    <tr>\n",
       "      <th>1</th>\n",
       "      <td>964285bee74e430cb22441e59a968e76</td>\n",
       "      <td>Crime</td>\n",
       "      <td>direct</td>\n",
       "      <td>48612b807c2b4b93bbbacbf54f547ad5</td>\n",
       "      <td>subject</td>\n",
       "    </tr>\n",
       "    <tr>\n",
       "      <th>2</th>\n",
       "      <td>964285bee74e430cb22441e59a968e76</td>\n",
       "      <td>Arrests</td>\n",
       "      <td>direct</td>\n",
       "      <td>b2a4c0a08315100485d9d5a57deba703</td>\n",
       "      <td>subject</td>\n",
       "    </tr>\n",
       "    <tr>\n",
       "      <th>3</th>\n",
       "      <td>964285bee74e430cb22441e59a968e76</td>\n",
       "      <td>Law and order</td>\n",
       "      <td>ancestor</td>\n",
       "      <td>17956128897810048ce8d56c852d093e</td>\n",
       "      <td>subject</td>\n",
       "    </tr>\n",
       "    <tr>\n",
       "      <th>4</th>\n",
       "      <td>964285bee74e430cb22441e59a968e76</td>\n",
       "      <td>Criminal investigations</td>\n",
       "      <td>direct</td>\n",
       "      <td>d1720f70883210048576ae2ac3a6923e</td>\n",
       "      <td>subject</td>\n",
       "    </tr>\n",
       "  </tbody>\n",
       "</table>\n",
       "</div>"
      ],
      "text/plain": [
       "                                 id                      tag     tag_relation  \\\n",
       "0  964285bee74e430cb22441e59a968e76             General news  direct_ancestor   \n",
       "1  964285bee74e430cb22441e59a968e76                    Crime           direct   \n",
       "2  964285bee74e430cb22441e59a968e76                  Arrests           direct   \n",
       "3  964285bee74e430cb22441e59a968e76            Law and order         ancestor   \n",
       "4  964285bee74e430cb22441e59a968e76  Criminal investigations           direct   \n",
       "\n",
       "                           tag_code     type  \n",
       "0  f25af2d07e4e100484f5df092526b43e  subject  \n",
       "1  48612b807c2b4b93bbbacbf54f547ad5  subject  \n",
       "2  b2a4c0a08315100485d9d5a57deba703  subject  \n",
       "3  17956128897810048ce8d56c852d093e  subject  \n",
       "4  d1720f70883210048576ae2ac3a6923e  subject  "
      ]
     },
     "execution_count": 73,
     "metadata": {},
     "output_type": "execute_result"
    }
   ],
   "source": [
    "art_alltags.head()"
   ]
  },
  {
   "cell_type": "code",
   "execution_count": 77,
   "metadata": {},
   "outputs": [
    {
     "data": {
      "text/html": [
       "<div>\n",
       "<style scoped>\n",
       "    .dataframe tbody tr th:only-of-type {\n",
       "        vertical-align: middle;\n",
       "    }\n",
       "\n",
       "    .dataframe tbody tr th {\n",
       "        vertical-align: top;\n",
       "    }\n",
       "\n",
       "    .dataframe thead th {\n",
       "        text-align: right;\n",
       "    }\n",
       "</style>\n",
       "<table border=\"1\" class=\"dataframe\">\n",
       "  <thead>\n",
       "    <tr style=\"text-align: right;\">\n",
       "      <th></th>\n",
       "      <th>tag</th>\n",
       "      <th>type</th>\n",
       "    </tr>\n",
       "  </thead>\n",
       "  <tbody>\n",
       "    <tr>\n",
       "      <th>18428</th>\n",
       "      <td>General news</td>\n",
       "      <td>subject</td>\n",
       "    </tr>\n",
       "    <tr>\n",
       "      <th>18429</th>\n",
       "      <td>Government and politics</td>\n",
       "      <td>subject</td>\n",
       "    </tr>\n",
       "    <tr>\n",
       "      <th>18430</th>\n",
       "      <td>Funerals and memorial services</td>\n",
       "      <td>subject</td>\n",
       "    </tr>\n",
       "    <tr>\n",
       "      <th>3708</th>\n",
       "      <td>Recep Tayyip Erdogan</td>\n",
       "      <td>person</td>\n",
       "    </tr>\n",
       "    <tr>\n",
       "      <th>3709</th>\n",
       "      <td>Kemal Kilicdaroglu</td>\n",
       "      <td>person</td>\n",
       "    </tr>\n",
       "    <tr>\n",
       "      <th>6860</th>\n",
       "      <td>Ankara</td>\n",
       "      <td>place</td>\n",
       "    </tr>\n",
       "    <tr>\n",
       "      <th>6861</th>\n",
       "      <td>Turkey</td>\n",
       "      <td>place</td>\n",
       "    </tr>\n",
       "    <tr>\n",
       "      <th>6862</th>\n",
       "      <td>Western Europe</td>\n",
       "      <td>place</td>\n",
       "    </tr>\n",
       "    <tr>\n",
       "      <th>6863</th>\n",
       "      <td>Europe</td>\n",
       "      <td>place</td>\n",
       "    </tr>\n",
       "    <tr>\n",
       "      <th>6864</th>\n",
       "      <td>Middle East</td>\n",
       "      <td>place</td>\n",
       "    </tr>\n",
       "    <tr>\n",
       "      <th>2694</th>\n",
       "      <td>Turkey government</td>\n",
       "      <td>org</td>\n",
       "    </tr>\n",
       "  </tbody>\n",
       "</table>\n",
       "</div>"
      ],
      "text/plain": [
       "                                  tag     type\n",
       "18428                    General news  subject\n",
       "18429         Government and politics  subject\n",
       "18430  Funerals and memorial services  subject\n",
       "3708             Recep Tayyip Erdogan   person\n",
       "3709               Kemal Kilicdaroglu   person\n",
       "6860                           Ankara    place\n",
       "6861                           Turkey    place\n",
       "6862                   Western Europe    place\n",
       "6863                           Europe    place\n",
       "6864                      Middle East    place\n",
       "2694                Turkey government      org"
      ]
     },
     "execution_count": 77,
     "metadata": {},
     "output_type": "execute_result"
    }
   ],
   "source": [
    "art_alltags[art_alltags['id'] == article_id][['tag', 'type']]"
   ]
  },
  {
   "cell_type": "code",
   "execution_count": 53,
   "metadata": {},
   "outputs": [],
   "source": [
    "with open(\"../data/full_text/0a0e0db8ae42425897b6381481663611.json\") as json_file:\n",
    "    data = json.load(json_file)\n",
    "article_id = data['id']\n",
    "text = data['full_text']"
   ]
  },
  {
   "cell_type": "code",
   "execution_count": 5,
   "metadata": {},
   "outputs": [
    {
     "data": {
      "text/plain": [
       "{'id': '0a0e0db8ae42425897b6381481663611',\n",
       " 'full_text': 'ANKARA, Turkey (AP) — Turkey\\'s interior minister says nine people have been detained in the assault of an opposition party leader, who was hit during a soldier\\'s funeral.Several protesters threw punches at Republican People\\'s Party leader Kemal Kilicdaroglu at the funeral outside Ankara on Sunday. Kilicdaroglu was not injured.Interior Minister Suleyman Soylu said Monday nine people were detained for questioning.The soldier was killed Saturday in clashes with Kurdish rebels. Soylu appeared to justify Kilicdaroglu\\'s assault by referring to the support a pro-Kurdish gave the opposition during Turkey\\'s March 31 municipal elections.Soylu said: \"Everyone must take sides against the (rebels).\"The Republican People\\'s Party won the mayoral elections in Ankara and Istanbul, supplanting President Recep Tayyip Erdogan\\'s party.Erdogan led a divisive campaign, equating opposition parties with terrorists.'}"
      ]
     },
     "execution_count": 5,
     "metadata": {},
     "output_type": "execute_result"
    }
   ],
   "source": [
    "data"
   ]
  },
  {
   "cell_type": "code",
   "execution_count": 9,
   "metadata": {},
   "outputs": [],
   "source": [
    "# with open(\"../data/article/0a0e0db8ae42425897b6381481663611.json\") as json_file:\n",
    "#     metadata = json.load(json_file)\n",
    "# # text = data['full_text']\n",
    "# for people in metadata['data']['item']['person']:\n",
    "#     print(people['name'])\n",
    "\n",
    "# # Get tagging API entities\n",
    "# entities = []\n",
    "# cat_type = ['person', 'subject', 'organisation', 'place']\n",
    "# for cat in cat_type:\n",
    "#     for data in metadata['data']['item'][cat]:\n",
    "#         entities.append(data['name']) # concat all metadata into this\n",
    "# entities = np.array(entities)\n",
    "# entities = entities[np.where(entities != \"i\")] # drop \"i\" from editor"
   ]
  },
  {
   "cell_type": "code",
   "execution_count": 87,
   "metadata": {},
   "outputs": [
    {
     "data": {
      "text/plain": [
       "'ANKARA, Turkey (AP) — Turkey\\'s interior minister says nine people have been detained in the assault of an opposition party leader, who was hit during a soldier\\'s funeral.Several protesters threw punches at Republican People\\'s Party leader Kemal Kilicdaroglu at the funeral outside Ankara on Sunday. Kilicdaroglu was not injured.Interior Minister Suleyman Soylu said Monday nine people were detained for questioning.The soldier was killed Saturday in clashes with Kurdish rebels. Soylu appeared to justify Kilicdaroglu\\'s assault by referring to the support a pro-Kurdish gave the opposition during Turkey\\'s March 31 municipal elections.Soylu said: \"Everyone must take sides against the (rebels).\"The Republican People\\'s Party won the mayoral elections in Ankara and Istanbul, supplanting President Recep Tayyip Erdogan\\'s party.Erdogan led a divisive campaign, equating opposition parties with terrorists.'"
      ]
     },
     "execution_count": 87,
     "metadata": {},
     "output_type": "execute_result"
    }
   ],
   "source": [
    "text"
   ]
  },
  {
   "cell_type": "code",
   "execution_count": 6,
   "metadata": {},
   "outputs": [],
   "source": [
    "en = textacy.load_spacy_lang(\"en_core_web_sm\", disable=(\"parser\",))\n",
    "doc = textacy.make_spacy_doc(text, lang=en)"
   ]
  },
  {
   "cell_type": "code",
   "execution_count": 92,
   "metadata": {},
   "outputs": [],
   "source": [
    "import textacy.ke"
   ]
  },
  {
   "cell_type": "code",
   "execution_count": 95,
   "metadata": {},
   "outputs": [
    {
     "ename": "ValueError",
     "evalue": "[E030] Sentence boundaries unset. You can add the 'sentencizer' component to the pipeline with: nlp.add_pipe(nlp.create_pipe('sentencizer')) Alternatively, add the dependency parser, or set sentence boundaries by setting doc[i].is_sent_start.",
     "output_type": "error",
     "traceback": [
      "\u001b[0;31m---------------------------------------------------------------------------\u001b[0m",
      "\u001b[0;31mValueError\u001b[0m                                Traceback (most recent call last)",
      "\u001b[0;32m<ipython-input-95-a5b2ad5ff4c4>\u001b[0m in \u001b[0;36m<module>\u001b[0;34m()\u001b[0m\n\u001b[0;32m----> 1\u001b[0;31m \u001b[0mtextacy\u001b[0m\u001b[0;34m.\u001b[0m\u001b[0mke\u001b[0m\u001b[0;34m.\u001b[0m\u001b[0myake\u001b[0m\u001b[0;34m(\u001b[0m\u001b[0mdoc\u001b[0m\u001b[0;34m)\u001b[0m\u001b[0;34m\u001b[0m\u001b[0;34m\u001b[0m\u001b[0m\n\u001b[0m",
      "\u001b[0;32m~/anaconda3/lib/python3.6/site-packages/textacy/ke/yake.py\u001b[0m in \u001b[0;36myake\u001b[0;34m(doc, normalize, ngrams, include_pos, window_size, topn)\u001b[0m\n\u001b[1;32m     78\u001b[0m     \u001b[0mseen_candidates\u001b[0m \u001b[0;34m=\u001b[0m \u001b[0mset\u001b[0m\u001b[0;34m(\u001b[0m\u001b[0;34m)\u001b[0m\u001b[0;34m\u001b[0m\u001b[0;34m\u001b[0m\u001b[0m\n\u001b[1;32m     79\u001b[0m     \u001b[0;31m# compute key values on a per-word basis\u001b[0m\u001b[0;34m\u001b[0m\u001b[0;34m\u001b[0m\u001b[0;34m\u001b[0m\u001b[0m\n\u001b[0;32m---> 80\u001b[0;31m     \u001b[0mword_occ_vals\u001b[0m \u001b[0;34m=\u001b[0m \u001b[0m_get_per_word_occurrence_values\u001b[0m\u001b[0;34m(\u001b[0m\u001b[0mdoc\u001b[0m\u001b[0;34m,\u001b[0m \u001b[0mnormalize\u001b[0m\u001b[0;34m,\u001b[0m \u001b[0mstop_words\u001b[0m\u001b[0;34m,\u001b[0m \u001b[0mwindow_size\u001b[0m\u001b[0;34m)\u001b[0m\u001b[0;34m\u001b[0m\u001b[0;34m\u001b[0m\u001b[0m\n\u001b[0m\u001b[1;32m     81\u001b[0m     \u001b[0;31m# doc doesn't have any words...\u001b[0m\u001b[0;34m\u001b[0m\u001b[0;34m\u001b[0m\u001b[0;34m\u001b[0m\u001b[0m\n\u001b[1;32m     82\u001b[0m     \u001b[0;32mif\u001b[0m \u001b[0;32mnot\u001b[0m \u001b[0mword_occ_vals\u001b[0m\u001b[0;34m:\u001b[0m\u001b[0;34m\u001b[0m\u001b[0;34m\u001b[0m\u001b[0m\n",
      "\u001b[0;32m~/anaconda3/lib/python3.6/site-packages/textacy/ke/yake.py\u001b[0m in \u001b[0;36m_get_per_word_occurrence_values\u001b[0;34m(doc, normalize, stop_words, window_size)\u001b[0m\n\u001b[1;32m    168\u001b[0m     \u001b[0mattr_name\u001b[0m \u001b[0;34m=\u001b[0m \u001b[0m_get_attr_name\u001b[0m\u001b[0;34m(\u001b[0m\u001b[0mnormalize\u001b[0m\u001b[0;34m,\u001b[0m \u001b[0;32mFalse\u001b[0m\u001b[0;34m)\u001b[0m\u001b[0;34m\u001b[0m\u001b[0;34m\u001b[0m\u001b[0m\n\u001b[1;32m    169\u001b[0m     \u001b[0mpadding\u001b[0m \u001b[0;34m=\u001b[0m \u001b[0;34m[\u001b[0m\u001b[0;32mNone\u001b[0m\u001b[0;34m]\u001b[0m \u001b[0;34m*\u001b[0m \u001b[0mwindow_size\u001b[0m\u001b[0;34m\u001b[0m\u001b[0;34m\u001b[0m\u001b[0m\n\u001b[0;32m--> 170\u001b[0;31m     \u001b[0;32mfor\u001b[0m \u001b[0msent_idx\u001b[0m\u001b[0;34m,\u001b[0m \u001b[0msent\u001b[0m \u001b[0;32min\u001b[0m \u001b[0menumerate\u001b[0m\u001b[0;34m(\u001b[0m\u001b[0mdoc\u001b[0m\u001b[0;34m.\u001b[0m\u001b[0msents\u001b[0m\u001b[0;34m)\u001b[0m\u001b[0;34m:\u001b[0m\u001b[0;34m\u001b[0m\u001b[0;34m\u001b[0m\u001b[0m\n\u001b[0m\u001b[1;32m    171\u001b[0m         \u001b[0msent_padded\u001b[0m \u001b[0;34m=\u001b[0m \u001b[0mitertoolz\u001b[0m\u001b[0;34m.\u001b[0m\u001b[0mconcatv\u001b[0m\u001b[0;34m(\u001b[0m\u001b[0mpadding\u001b[0m\u001b[0;34m,\u001b[0m \u001b[0msent\u001b[0m\u001b[0;34m,\u001b[0m \u001b[0mpadding\u001b[0m\u001b[0;34m)\u001b[0m\u001b[0;34m\u001b[0m\u001b[0;34m\u001b[0m\u001b[0m\n\u001b[1;32m    172\u001b[0m         \u001b[0;32mfor\u001b[0m \u001b[0mwindow\u001b[0m \u001b[0;32min\u001b[0m \u001b[0mitertoolz\u001b[0m\u001b[0;34m.\u001b[0m\u001b[0msliding_window\u001b[0m\u001b[0;34m(\u001b[0m\u001b[0;36m1\u001b[0m \u001b[0;34m+\u001b[0m \u001b[0;34m(\u001b[0m\u001b[0;36m2\u001b[0m \u001b[0;34m*\u001b[0m \u001b[0mwindow_size\u001b[0m\u001b[0;34m)\u001b[0m\u001b[0;34m,\u001b[0m \u001b[0msent_padded\u001b[0m\u001b[0;34m)\u001b[0m\u001b[0;34m:\u001b[0m\u001b[0;34m\u001b[0m\u001b[0;34m\u001b[0m\u001b[0m\n",
      "\u001b[0;32mdoc.pyx\u001b[0m in \u001b[0;36msents\u001b[0;34m()\u001b[0m\n",
      "\u001b[0;31mValueError\u001b[0m: [E030] Sentence boundaries unset. You can add the 'sentencizer' component to the pipeline with: nlp.add_pipe(nlp.create_pipe('sentencizer')) Alternatively, add the dependency parser, or set sentence boundaries by setting doc[i].is_sent_start."
     ]
    }
   ],
   "source": [
    "textacy.ke.yake(doc)"
   ]
  },
  {
   "cell_type": "code",
   "execution_count": 89,
   "metadata": {},
   "outputs": [
    {
     "name": "stdout",
     "output_type": "stream",
     "text": [
      "Textrank words ('Party leader Kemal Kilicdaroglu', 'opposition party leader', 'Interior Minister Suleyman Soylu', 'President Recep Tayyip Erdogan', 'municipal election', 'kurdish rebel', 'mayoral election', 'Republican People', 'Turkey', 'divisive campaign', 'interior minister', 'Ankara', 'assault', 'funeral', 'soldier', 'people', 'protester', 'punch', 'AP', 'Istanbul', 'March', 'Monday', 'Saturday', 'clash', 'support', 'Sunday', 'terrorist')\n",
      "entities included: Kemal Kilicdaroglu\n",
      "entities included: Recep Tayyip Erdogan\n",
      "entities included: Turkey\n",
      "entities included: Ankara\n"
     ]
    },
    {
     "data": {
      "text/plain": [
       "(array(['Party leader Kemal Kilicdaroglu',\n",
       "        'President Recep Tayyip Erdogan', 'Turkey', 'Ankara'], dtype='<U32'),\n",
       " array([0.04750027, 0.0352918 , 0.01804562, 0.01335449]),\n",
       " array(['Ankara', 'Kemal Kilicdaroglu', 'Recep Tayyip Erdogan', 'Turkey'],\n",
       "       dtype='<U30'))"
      ]
     },
     "execution_count": 89,
     "metadata": {},
     "output_type": "execute_result"
    }
   ],
   "source": [
    "# Extract textrank of named entities\n",
    "textrank_entities, textrank_score, entities_list = extract_textrank_from_text(doc, tagging_API_entities = entities)\n",
    "textrank_entities, textrank_score, entities_list"
   ]
  },
  {
   "cell_type": "code",
   "execution_count": 96,
   "metadata": {},
   "outputs": [
    {
     "data": {
      "text/html": [
       "<div>\n",
       "<style scoped>\n",
       "    .dataframe tbody tr th:only-of-type {\n",
       "        vertical-align: middle;\n",
       "    }\n",
       "\n",
       "    .dataframe tbody tr th {\n",
       "        vertical-align: top;\n",
       "    }\n",
       "\n",
       "    .dataframe thead th {\n",
       "        text-align: right;\n",
       "    }\n",
       "</style>\n",
       "<table border=\"1\" class=\"dataframe\">\n",
       "  <thead>\n",
       "    <tr style=\"text-align: right;\">\n",
       "      <th></th>\n",
       "      <th>TextRank Bags of Words</th>\n",
       "      <th>TextRank Importance Score</th>\n",
       "      <th>Tagging API Named Entities</th>\n",
       "    </tr>\n",
       "  </thead>\n",
       "  <tbody>\n",
       "    <tr>\n",
       "      <th>0</th>\n",
       "      <td>Party leader Kemal Kilicdaroglu</td>\n",
       "      <td>0.0475003</td>\n",
       "      <td>Ankara</td>\n",
       "    </tr>\n",
       "    <tr>\n",
       "      <th>1</th>\n",
       "      <td>President Recep Tayyip Erdogan</td>\n",
       "      <td>0.0352918</td>\n",
       "      <td>Kemal Kilicdaroglu</td>\n",
       "    </tr>\n",
       "    <tr>\n",
       "      <th>2</th>\n",
       "      <td>Turkey</td>\n",
       "      <td>0.0180456</td>\n",
       "      <td>Recep Tayyip Erdogan</td>\n",
       "    </tr>\n",
       "    <tr>\n",
       "      <th>3</th>\n",
       "      <td>Ankara</td>\n",
       "      <td>0.0133545</td>\n",
       "      <td>Turkey</td>\n",
       "    </tr>\n",
       "  </tbody>\n",
       "</table>\n",
       "</div>"
      ],
      "text/plain": [
       "            TextRank Bags of Words TextRank Importance Score  \\\n",
       "0  Party leader Kemal Kilicdaroglu                 0.0475003   \n",
       "1   President Recep Tayyip Erdogan                 0.0352918   \n",
       "2                           Turkey                 0.0180456   \n",
       "3                           Ankara                 0.0133545   \n",
       "\n",
       "  Tagging API Named Entities  \n",
       "0                     Ankara  \n",
       "1         Kemal Kilicdaroglu  \n",
       "2       Recep Tayyip Erdogan  \n",
       "3                     Turkey  "
      ]
     },
     "execution_count": 96,
     "metadata": {},
     "output_type": "execute_result"
    }
   ],
   "source": [
    "pd.DataFrame([textrank_entities, textrank_score, entities_list]).T.rename(columns = \\\n",
    "              {0:\"TextRank Bags of Words\", 1:\"TextRank Importance Score\", 2:\"Tagging API Named Entities\"})"
   ]
  },
  {
   "cell_type": "code",
   "execution_count": 10,
   "metadata": {},
   "outputs": [
    {
     "data": {
      "text/plain": [
       "137"
      ]
     },
     "execution_count": 10,
     "metadata": {},
     "output_type": "execute_result"
    }
   ],
   "source": [
    "ts.basic_counts['n_words'] ## CHECK ## doesn't match"
   ]
  },
  {
   "cell_type": "markdown",
   "metadata": {},
   "source": [
    "## TextRank"
   ]
  },
  {
   "cell_type": "code",
   "execution_count": 11,
   "metadata": {},
   "outputs": [],
   "source": [
    "import textacy.ke"
   ]
  },
  {
   "cell_type": "code",
   "execution_count": 12,
   "metadata": {},
   "outputs": [
    {
     "ename": "TypeError",
     "evalue": "get_normalized_text() missing 1 required positional argument: 'span_or_token'",
     "output_type": "error",
     "traceback": [
      "\u001b[0;31m---------------------------------------------------------------------------\u001b[0m",
      "\u001b[0;31mTypeError\u001b[0m                                 Traceback (most recent call last)",
      "\u001b[0;32m<ipython-input-12-7ce3c4f3a86f>\u001b[0m in \u001b[0;36m<module>\u001b[0;34m()\u001b[0m\n\u001b[0;32m----> 1\u001b[0;31m \u001b[0mtextacy\u001b[0m\u001b[0;34m.\u001b[0m\u001b[0mspacier\u001b[0m\u001b[0;34m.\u001b[0m\u001b[0mutils\u001b[0m\u001b[0;34m.\u001b[0m\u001b[0mget_normalized_text\u001b[0m\u001b[0;34m(\u001b[0m\u001b[0;34m)\u001b[0m\u001b[0;34m\u001b[0m\u001b[0;34m\u001b[0m\u001b[0m\n\u001b[0m",
      "\u001b[0;31mTypeError\u001b[0m: get_normalized_text() missing 1 required positional argument: 'span_or_token'"
     ]
    }
   ],
   "source": [
    "textacy.spacier.utils.get_normalized_text()"
   ]
  },
  {
   "cell_type": "code",
   "execution_count": 83,
   "metadata": {},
   "outputs": [
    {
     "data": {
      "text/plain": [
       "137"
      ]
     },
     "execution_count": 83,
     "metadata": {},
     "output_type": "execute_result"
    }
   ],
   "source": [
    "textacy.TextStats(doc).basic_counts['n_words']\n"
   ]
  },
  {
   "cell_type": "code",
   "execution_count": 85,
   "metadata": {
    "scrolled": true
   },
   "outputs": [
    {
     "data": {
      "text/plain": [
       "[('Party leader Kemal Kilicdaroglu', 0.047500269373415754),\n",
       " ('opposition party leader', 0.04491151046482916),\n",
       " ('Interior Minister Suleyman Soylu', 0.0393905668124247),\n",
       " ('President Recep Tayyip Erdogan', 0.03529180424934934),\n",
       " ('municipal election', 0.02023076940656441),\n",
       " ('kurdish rebel', 0.02017311337306259),\n",
       " ('mayoral election', 0.019878721600533583),\n",
       " ('Republican People', 0.019007513261570123),\n",
       " ('Turkey', 0.018045623982279352),\n",
       " ('divisive campaign', 0.014757984913261336)]"
      ]
     },
     "execution_count": 85,
     "metadata": {},
     "output_type": "execute_result"
    }
   ],
   "source": [
    "textacy.ke.textrank(doc, normalize=\"lemma\", topn=10, window_size=3)"
   ]
  },
  {
   "cell_type": "code",
   "execution_count": 87,
   "metadata": {},
   "outputs": [
    {
     "data": {
      "text/plain": [
       "[('Party leader Kemal Kilicdaroglu', 0.04617915923493072),\n",
       " ('opposition party leader', 0.04196247513260644),\n",
       " ('President Recep Tayyip Erdogan', 0.03830877804676011),\n",
       " ('Interior Minister Suleyman Soylu', 0.037198656876395696),\n",
       " ('municipal election', 0.020586955135560664),\n",
       " ('kurdish rebel', 0.020301421625340613),\n",
       " ('mayoral election', 0.01961960693434969),\n",
       " ('Republican People', 0.017306950928731746),\n",
       " ('Turkey', 0.015486631465300623),\n",
       " ('divisive campaign', 0.015011340305379331)]"
      ]
     },
     "execution_count": 87,
     "metadata": {},
     "output_type": "execute_result"
    }
   ],
   "source": [
    "textacy.ke.textrank(doc, normalize=\"lemma\", topn=10, window_size=2)"
   ]
  },
  {
   "cell_type": "markdown",
   "metadata": {},
   "source": [
    "## Use named entities only in TextRank"
   ]
  },
  {
   "cell_type": "code",
   "execution_count": 31,
   "metadata": {},
   "outputs": [],
   "source": [
    "entities_list_fulltext_df = pd.read_csv(\"../data/entities_list_full_text_dedup.csv\")"
   ]
  },
  {
   "cell_type": "code",
   "execution_count": 32,
   "metadata": {},
   "outputs": [
    {
     "data": {
      "text/plain": [
       "((764798, 5), (764798, 5))"
      ]
     },
     "execution_count": 32,
     "metadata": {},
     "output_type": "execute_result"
    }
   ],
   "source": [
    "entities_list_fulltext_df.shape, entities_list_fulltext_df.drop_duplicates(['text', 'article_id']).shape"
   ]
  },
  {
   "cell_type": "code",
   "execution_count": 33,
   "metadata": {},
   "outputs": [],
   "source": [
    "trial_id = '0a0e0db8ae42425897b6381481663611'\n",
    "trial_entities_df = entities_list_fulltext_df[entities_list_fulltext_df['article_id'] == '0a0e0db8ae42425897b6381481663611']\n"
   ]
  },
  {
   "cell_type": "code",
   "execution_count": 34,
   "metadata": {},
   "outputs": [
    {
     "data": {
      "text/plain": [
       "((15, 5), (15, 5))"
      ]
     },
     "execution_count": 34,
     "metadata": {},
     "output_type": "execute_result"
    }
   ],
   "source": [
    "trial_entities_df.shape, trial_entities_df.drop_duplicates(['text']).shape"
   ]
  },
  {
   "cell_type": "code",
   "execution_count": 35,
   "metadata": {},
   "outputs": [
    {
     "data": {
      "text/html": [
       "<div>\n",
       "<style scoped>\n",
       "    .dataframe tbody tr th:only-of-type {\n",
       "        vertical-align: middle;\n",
       "    }\n",
       "\n",
       "    .dataframe tbody tr th {\n",
       "        vertical-align: top;\n",
       "    }\n",
       "\n",
       "    .dataframe thead th {\n",
       "        text-align: right;\n",
       "    }\n",
       "</style>\n",
       "<table border=\"1\" class=\"dataframe\">\n",
       "  <thead>\n",
       "    <tr style=\"text-align: right;\">\n",
       "      <th></th>\n",
       "      <th>Unnamed: 0</th>\n",
       "      <th>Unnamed: 0.1</th>\n",
       "      <th>text</th>\n",
       "      <th>label</th>\n",
       "      <th>article_id</th>\n",
       "    </tr>\n",
       "  </thead>\n",
       "  <tbody>\n",
       "    <tr>\n",
       "      <th>50077</th>\n",
       "      <td>82862</td>\n",
       "      <td>0</td>\n",
       "      <td>ANKARA</td>\n",
       "      <td>ORG</td>\n",
       "      <td>0a0e0db8ae42425897b6381481663611</td>\n",
       "    </tr>\n",
       "    <tr>\n",
       "      <th>50078</th>\n",
       "      <td>82863</td>\n",
       "      <td>1</td>\n",
       "      <td>Turkey</td>\n",
       "      <td>GPE</td>\n",
       "      <td>0a0e0db8ae42425897b6381481663611</td>\n",
       "    </tr>\n",
       "    <tr>\n",
       "      <th>50079</th>\n",
       "      <td>82864</td>\n",
       "      <td>2</td>\n",
       "      <td>AP</td>\n",
       "      <td>ORG</td>\n",
       "      <td>0a0e0db8ae42425897b6381481663611</td>\n",
       "    </tr>\n",
       "    <tr>\n",
       "      <th>50080</th>\n",
       "      <td>82866</td>\n",
       "      <td>4</td>\n",
       "      <td>Republican People's Party</td>\n",
       "      <td>ORG</td>\n",
       "      <td>0a0e0db8ae42425897b6381481663611</td>\n",
       "    </tr>\n",
       "    <tr>\n",
       "      <th>50081</th>\n",
       "      <td>82867</td>\n",
       "      <td>5</td>\n",
       "      <td>Kemal Kilicdaroglu</td>\n",
       "      <td>PERSON</td>\n",
       "      <td>0a0e0db8ae42425897b6381481663611</td>\n",
       "    </tr>\n",
       "    <tr>\n",
       "      <th>50082</th>\n",
       "      <td>82868</td>\n",
       "      <td>6</td>\n",
       "      <td>Ankara</td>\n",
       "      <td>GPE</td>\n",
       "      <td>0a0e0db8ae42425897b6381481663611</td>\n",
       "    </tr>\n",
       "    <tr>\n",
       "      <th>50083</th>\n",
       "      <td>82869</td>\n",
       "      <td>7</td>\n",
       "      <td>Kilicdaroglu</td>\n",
       "      <td>PERSON</td>\n",
       "      <td>0a0e0db8ae42425897b6381481663611</td>\n",
       "    </tr>\n",
       "    <tr>\n",
       "      <th>50084</th>\n",
       "      <td>82870</td>\n",
       "      <td>8</td>\n",
       "      <td>Suleyman Soylu</td>\n",
       "      <td>PERSON</td>\n",
       "      <td>0a0e0db8ae42425897b6381481663611</td>\n",
       "    </tr>\n",
       "    <tr>\n",
       "      <th>50085</th>\n",
       "      <td>82871</td>\n",
       "      <td>9</td>\n",
       "      <td>Kurdish</td>\n",
       "      <td>NORP</td>\n",
       "      <td>0a0e0db8ae42425897b6381481663611</td>\n",
       "    </tr>\n",
       "    <tr>\n",
       "      <th>50086</th>\n",
       "      <td>82872</td>\n",
       "      <td>10</td>\n",
       "      <td>Soylu</td>\n",
       "      <td>ORG</td>\n",
       "      <td>0a0e0db8ae42425897b6381481663611</td>\n",
       "    </tr>\n",
       "    <tr>\n",
       "      <th>50087</th>\n",
       "      <td>82874</td>\n",
       "      <td>12</td>\n",
       "      <td>pro-Kurdish</td>\n",
       "      <td>NORP</td>\n",
       "      <td>0a0e0db8ae42425897b6381481663611</td>\n",
       "    </tr>\n",
       "    <tr>\n",
       "      <th>50088</th>\n",
       "      <td>82877</td>\n",
       "      <td>15</td>\n",
       "      <td>rebels).\"The Republican People's Party</td>\n",
       "      <td>ORG</td>\n",
       "      <td>0a0e0db8ae42425897b6381481663611</td>\n",
       "    </tr>\n",
       "    <tr>\n",
       "      <th>50089</th>\n",
       "      <td>82879</td>\n",
       "      <td>17</td>\n",
       "      <td>Istanbul</td>\n",
       "      <td>GPE</td>\n",
       "      <td>0a0e0db8ae42425897b6381481663611</td>\n",
       "    </tr>\n",
       "    <tr>\n",
       "      <th>50090</th>\n",
       "      <td>82880</td>\n",
       "      <td>18</td>\n",
       "      <td>Recep Tayyip Erdogan's</td>\n",
       "      <td>PERSON</td>\n",
       "      <td>0a0e0db8ae42425897b6381481663611</td>\n",
       "    </tr>\n",
       "    <tr>\n",
       "      <th>50091</th>\n",
       "      <td>82881</td>\n",
       "      <td>19</td>\n",
       "      <td>Erdogan</td>\n",
       "      <td>PERSON</td>\n",
       "      <td>0a0e0db8ae42425897b6381481663611</td>\n",
       "    </tr>\n",
       "  </tbody>\n",
       "</table>\n",
       "</div>"
      ],
      "text/plain": [
       "       Unnamed: 0  Unnamed: 0.1                                    text  \\\n",
       "50077       82862             0                                  ANKARA   \n",
       "50078       82863             1                                  Turkey   \n",
       "50079       82864             2                                      AP   \n",
       "50080       82866             4               Republican People's Party   \n",
       "50081       82867             5                      Kemal Kilicdaroglu   \n",
       "50082       82868             6                                  Ankara   \n",
       "50083       82869             7                            Kilicdaroglu   \n",
       "50084       82870             8                          Suleyman Soylu   \n",
       "50085       82871             9                                 Kurdish   \n",
       "50086       82872            10                                   Soylu   \n",
       "50087       82874            12                             pro-Kurdish   \n",
       "50088       82877            15  rebels).\"The Republican People's Party   \n",
       "50089       82879            17                                Istanbul   \n",
       "50090       82880            18                  Recep Tayyip Erdogan's   \n",
       "50091       82881            19                                 Erdogan   \n",
       "\n",
       "        label                        article_id  \n",
       "50077     ORG  0a0e0db8ae42425897b6381481663611  \n",
       "50078     GPE  0a0e0db8ae42425897b6381481663611  \n",
       "50079     ORG  0a0e0db8ae42425897b6381481663611  \n",
       "50080     ORG  0a0e0db8ae42425897b6381481663611  \n",
       "50081  PERSON  0a0e0db8ae42425897b6381481663611  \n",
       "50082     GPE  0a0e0db8ae42425897b6381481663611  \n",
       "50083  PERSON  0a0e0db8ae42425897b6381481663611  \n",
       "50084  PERSON  0a0e0db8ae42425897b6381481663611  \n",
       "50085    NORP  0a0e0db8ae42425897b6381481663611  \n",
       "50086     ORG  0a0e0db8ae42425897b6381481663611  \n",
       "50087    NORP  0a0e0db8ae42425897b6381481663611  \n",
       "50088     ORG  0a0e0db8ae42425897b6381481663611  \n",
       "50089     GPE  0a0e0db8ae42425897b6381481663611  \n",
       "50090  PERSON  0a0e0db8ae42425897b6381481663611  \n",
       "50091  PERSON  0a0e0db8ae42425897b6381481663611  "
      ]
     },
     "execution_count": 35,
     "metadata": {},
     "output_type": "execute_result"
    }
   ],
   "source": [
    "trial_entities_df"
   ]
  },
  {
   "cell_type": "code",
   "execution_count": null,
   "metadata": {},
   "outputs": [],
   "source": [
    "extract_textrank_from_text()"
   ]
  },
  {
   "cell_type": "code",
   "execution_count": 50,
   "metadata": {},
   "outputs": [
    {
     "data": {
      "text/plain": [
       "array(['Turkey', 'Kemal Kilicdaroglu', 'Ankara', 'Kilicdaroglu',\n",
       "       'Suleyman Soylu', 'Istanbul', \"Recep Tayyip Erdogan's\", 'Erdogan'],\n",
       "      dtype=object)"
      ]
     },
     "execution_count": 50,
     "metadata": {},
     "output_type": "execute_result"
    }
   ],
   "source": [
    "# Get relevant entities\n",
    "rel_gp = ['PERSON', 'GPE']\n",
    "trial_entities = trial_entities_df['text'][trial_entities_df['label'].isin(rel_gp)].values\n",
    "trial_entities"
   ]
  },
  {
   "cell_type": "code",
   "execution_count": 102,
   "metadata": {},
   "outputs": [
    {
     "data": {
      "text/plain": [
       "array(['Ankara', 'Erdogan', 'Istanbul', 'Kemal Kilicdaroglu',\n",
       "       'Kilicdaroglu', \"Recep Tayyip Erdogan's\", 'Suleyman Soylu',\n",
       "       'Turkey'], dtype=object)"
      ]
     },
     "execution_count": 102,
     "metadata": {},
     "output_type": "execute_result"
    }
   ],
   "source": [
    "np.unique(trial_entities)"
   ]
  },
  {
   "cell_type": "code",
   "execution_count": 78,
   "metadata": {},
   "outputs": [
    {
     "data": {
      "text/plain": [
       "ANKARA, Turkey (AP) — Turkey's interior minister says nine people have been detained in the assault of an opposition party leader, who was hit during a soldier's funeral.Several protesters threw punches at Republican People's Party leader Kemal Kilicdaroglu at the funeral outside Ankara on Sunday. Kilicdaroglu was not injured.Interior Minister Suleyman Soylu said Monday nine people were detained for questioning.The soldier was killed Saturday in clashes with Kurdish rebels. Soylu appeared to justify Kilicdaroglu's assault by referring to the support a pro-Kurdish gave the opposition during Turkey's March 31 municipal elections.Soylu said: \"Everyone must take sides against the (rebels).\"The Republican People's Party won the mayoral elections in Ankara and Istanbul, supplanting President Recep Tayyip Erdogan's party.Erdogan led a divisive campaign, equating opposition parties with terrorists."
      ]
     },
     "execution_count": 78,
     "metadata": {},
     "output_type": "execute_result"
    }
   ],
   "source": [
    "doc"
   ]
  },
  {
   "cell_type": "code",
   "execution_count": 37,
   "metadata": {},
   "outputs": [],
   "source": [
    "window_size = 2\n",
    "trial_textrank = textacy.ke.textrank(doc, normalize=\"lemma\", topn=10, window_size=window_size)\n",
    "textrank_words = [textrank[0] for textrank in trial_textrank]"
   ]
  },
  {
   "cell_type": "code",
   "execution_count": 42,
   "metadata": {},
   "outputs": [
    {
     "data": {
      "text/plain": [
       "['Party leader Kemal Kilicdaroglu',\n",
       " 'opposition party leader',\n",
       " 'President Recep Tayyip Erdogan',\n",
       " 'Interior Minister Suleyman Soylu',\n",
       " 'municipal election',\n",
       " 'kurdish rebel',\n",
       " 'mayoral election',\n",
       " 'Republican People',\n",
       " 'Turkey',\n",
       " 'divisive campaign']"
      ]
     },
     "execution_count": 42,
     "metadata": {},
     "output_type": "execute_result"
    }
   ],
   "source": [
    "textrank_words"
   ]
  },
  {
   "cell_type": "code",
   "execution_count": 101,
   "metadata": {},
   "outputs": [
    {
     "data": {
      "text/plain": [
       "array(['Party leader Kemal Kilicdaroglu',\n",
       "       'President Recep Tayyip Erdogan',\n",
       "       'Interior Minister Suleyman Soylu', 'Turkey'], dtype='<U32')"
      ]
     },
     "execution_count": 101,
     "metadata": {},
     "output_type": "execute_result"
    }
   ],
   "source": [
    "get_textrank_entities_only(np.array(textrank_words), trial_entities)"
   ]
  },
  {
   "cell_type": "code",
   "execution_count": null,
   "metadata": {},
   "outputs": [],
   "source": []
  }
 ],
 "metadata": {
  "kernelspec": {
   "display_name": "Python 3",
   "language": "python",
   "name": "python3"
  },
  "language_info": {
   "codemirror_mode": {
    "name": "ipython",
    "version": 3
   },
   "file_extension": ".py",
   "mimetype": "text/x-python",
   "name": "python",
   "nbconvert_exporter": "python",
   "pygments_lexer": "ipython3",
   "version": "3.6.8"
  }
 },
 "nbformat": 4,
 "nbformat_minor": 2
}
