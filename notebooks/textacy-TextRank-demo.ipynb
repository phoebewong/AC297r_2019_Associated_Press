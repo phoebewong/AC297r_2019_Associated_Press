{
 "cells": [
  {
   "cell_type": "code",
   "execution_count": 59,
   "metadata": {},
   "outputs": [],
   "source": [
    "import os\n",
    "import sys\n",
    "import json\n",
    "module_path = os.path.abspath(os.path.join('..'))\n",
    "if module_path not in sys.path:\n",
    "    sys.path.append(module_path)\n",
    "# sys.path.append('/Users/pwong/Documents/AC297r_2019_Associated_Press/env/lib/python3.6/site-package')\n",
    "# sys.path.append('/Users/pwong/anaconda3/bin')\n",
    "\n",
    "import textacy\n",
    "import pandas as pd\n",
    "import numpy as np\n",
    "import matplotlib.pyplot as plt"
   ]
  },
  {
   "cell_type": "code",
   "execution_count": 2,
   "metadata": {},
   "outputs": [],
   "source": [
    "from src.nlp_util.textacy_util import *"
   ]
  },
  {
   "cell_type": "code",
   "execution_count": 3,
   "metadata": {},
   "outputs": [],
   "source": [
    "%load_ext autoreload\n",
    "%autoreload 2"
   ]
  },
  {
   "cell_type": "code",
   "execution_count": 4,
   "metadata": {},
   "outputs": [],
   "source": [
    "art_sub = pd.read_csv(\"../data/clean_data/article_subject.csv\")\n",
    "art_person = pd.read_csv(\"../data/clean_data/article_person.csv\")\n",
    "art_place = pd.read_csv(\"../data/clean_data/article_place.csv\")\n",
    "art_org = pd.read_csv(\"../data/clean_data/article_org.csv\")"
   ]
  },
  {
   "cell_type": "code",
   "execution_count": 5,
   "metadata": {},
   "outputs": [],
   "source": [
    "art_sub['type'] = 'subject'\n",
    "art_person['type'] = 'person'\n",
    "art_place['type'] = 'place'\n",
    "art_org['type'] = 'org'\n",
    "\n",
    "art_sub = art_sub.rename(columns={\"subject_tag\": \"tag\", \"subject_tag_relation\": \"tag_relation\", \"subject_tag_code\": \"tag_code\"})\n",
    "art_person = art_person.rename(columns={\"person_tag\": \"tag\", \"person_tag_relation\": \"tag_relation\", \"person_tag_code\": \"tag_code\"})\n",
    "art_place = art_place.rename(columns={\"place_tag\": \"tag\", \"place_tag_relation\": \"tag_relation\", \"place_tag_code\": \"tag_code\"})\n",
    "art_org = art_org.rename(columns={\"org_tag\": \"tag\", \"org_tag_relation\": \"tag_relation\", \"org_tag_code\": \"tag_code\"})\n",
    "\n",
    "art_alltags = pd.concat([art_sub, art_person, art_place, art_org])"
   ]
  },
  {
   "cell_type": "code",
   "execution_count": 68,
   "metadata": {},
   "outputs": [],
   "source": [
    "img_sub = pd.read_csv(\"../data/clean_data/image_subject.csv\")\n",
    "img_person = pd.read_csv(\"../data/clean_data/image_person.csv\")\n",
    "img_place = pd.read_csv(\"../data/clean_data/image_place.csv\")\n",
    "img_org = pd.read_csv(\"../data/clean_data/image_org.csv\")\n",
    "\n",
    "img_sub['type'] = 'subject'\n",
    "img_person['type'] = 'person'\n",
    "img_place['type'] = 'place'\n",
    "img_org['type'] = 'org'\n",
    "\n",
    "img_sub = img_sub.rename(columns={\"subject_tag\": \"tag\", \"subject_tag_relation\": \"tag_relation\", \"subject_tag_code\": \"tag_code\"})\n",
    "img_person = img_person.rename(columns={\"person_tag\": \"tag\", \"person_tag_relation\": \"tag_relation\", \"person_tag_code\": \"tag_code\"})\n",
    "img_place = img_place.rename(columns={\"place_tag\": \"tag\", \"place_tag_relation\": \"tag_relation\", \"place_tag_code\": \"tag_code\"})\n",
    "img_org = img_org.rename(columns={\"org_tag\": \"tag\", \"org_tag_relation\": \"tag_relation\", \"org_tag_code\": \"tag_code\"})\n",
    "\n",
    "img_alltags = pd.concat([img_sub, img_person, img_place, img_org])"
   ]
  },
  {
   "cell_type": "code",
   "execution_count": 69,
   "metadata": {},
   "outputs": [
    {
     "data": {
      "text/html": [
       "<div>\n",
       "<style scoped>\n",
       "    .dataframe tbody tr th:only-of-type {\n",
       "        vertical-align: middle;\n",
       "    }\n",
       "\n",
       "    .dataframe tbody tr th {\n",
       "        vertical-align: top;\n",
       "    }\n",
       "\n",
       "    .dataframe thead th {\n",
       "        text-align: right;\n",
       "    }\n",
       "</style>\n",
       "<table border=\"1\" class=\"dataframe\">\n",
       "  <thead>\n",
       "    <tr style=\"text-align: right;\">\n",
       "      <th></th>\n",
       "      <th>id</th>\n",
       "      <th>article_idx</th>\n",
       "      <th>tag</th>\n",
       "      <th>tag_relation</th>\n",
       "      <th>tag_code</th>\n",
       "      <th>type</th>\n",
       "    </tr>\n",
       "  </thead>\n",
       "  <tbody>\n",
       "    <tr>\n",
       "      <th>0</th>\n",
       "      <td>320481aa269c4bde8e8cce11849d765d</td>\n",
       "      <td>2886bcd059164953ac66fb325a30ff9f</td>\n",
       "      <td>Charlotte police shooting</td>\n",
       "      <td>direct</td>\n",
       "      <td>414cf3a8120f42578d63cc91d1249605</td>\n",
       "      <td>subject</td>\n",
       "    </tr>\n",
       "    <tr>\n",
       "      <th>1</th>\n",
       "      <td>320481aa269c4bde8e8cce11849d765d</td>\n",
       "      <td>2886bcd059164953ac66fb325a30ff9f</td>\n",
       "      <td>Shootings</td>\n",
       "      <td>direct</td>\n",
       "      <td>5018b8f4ded948128561c5af2144ca66</td>\n",
       "      <td>subject</td>\n",
       "    </tr>\n",
       "    <tr>\n",
       "      <th>2</th>\n",
       "      <td>320481aa269c4bde8e8cce11849d765d</td>\n",
       "      <td>2886bcd059164953ac66fb325a30ff9f</td>\n",
       "      <td>Violent crime</td>\n",
       "      <td>ancestor</td>\n",
       "      <td>13c6a480899b10048b9dd56c852d093e</td>\n",
       "      <td>subject</td>\n",
       "    </tr>\n",
       "    <tr>\n",
       "      <th>3</th>\n",
       "      <td>320481aa269c4bde8e8cce11849d765d</td>\n",
       "      <td>2886bcd059164953ac66fb325a30ff9f</td>\n",
       "      <td>Crime</td>\n",
       "      <td>ancestor</td>\n",
       "      <td>48612b807c2b4b93bbbacbf54f547ad5</td>\n",
       "      <td>subject</td>\n",
       "    </tr>\n",
       "    <tr>\n",
       "      <th>4</th>\n",
       "      <td>320481aa269c4bde8e8cce11849d765d</td>\n",
       "      <td>2886bcd059164953ac66fb325a30ff9f</td>\n",
       "      <td>General news</td>\n",
       "      <td>ancestor</td>\n",
       "      <td>f25af2d07e4e100484f5df092526b43e</td>\n",
       "      <td>subject</td>\n",
       "    </tr>\n",
       "  </tbody>\n",
       "</table>\n",
       "</div>"
      ],
      "text/plain": [
       "                                 id                       article_idx  \\\n",
       "0  320481aa269c4bde8e8cce11849d765d  2886bcd059164953ac66fb325a30ff9f   \n",
       "1  320481aa269c4bde8e8cce11849d765d  2886bcd059164953ac66fb325a30ff9f   \n",
       "2  320481aa269c4bde8e8cce11849d765d  2886bcd059164953ac66fb325a30ff9f   \n",
       "3  320481aa269c4bde8e8cce11849d765d  2886bcd059164953ac66fb325a30ff9f   \n",
       "4  320481aa269c4bde8e8cce11849d765d  2886bcd059164953ac66fb325a30ff9f   \n",
       "\n",
       "                         tag tag_relation                          tag_code  \\\n",
       "0  Charlotte police shooting       direct  414cf3a8120f42578d63cc91d1249605   \n",
       "1                  Shootings       direct  5018b8f4ded948128561c5af2144ca66   \n",
       "2              Violent crime     ancestor  13c6a480899b10048b9dd56c852d093e   \n",
       "3                      Crime     ancestor  48612b807c2b4b93bbbacbf54f547ad5   \n",
       "4               General news     ancestor  f25af2d07e4e100484f5df092526b43e   \n",
       "\n",
       "      type  \n",
       "0  subject  \n",
       "1  subject  \n",
       "2  subject  \n",
       "3  subject  \n",
       "4  subject  "
      ]
     },
     "execution_count": 69,
     "metadata": {},
     "output_type": "execute_result"
    }
   ],
   "source": [
    "img_alltags.head()"
   ]
  },
  {
   "cell_type": "code",
   "execution_count": 6,
   "metadata": {},
   "outputs": [
    {
     "data": {
      "text/html": [
       "<div>\n",
       "<style scoped>\n",
       "    .dataframe tbody tr th:only-of-type {\n",
       "        vertical-align: middle;\n",
       "    }\n",
       "\n",
       "    .dataframe tbody tr th {\n",
       "        vertical-align: top;\n",
       "    }\n",
       "\n",
       "    .dataframe thead th {\n",
       "        text-align: right;\n",
       "    }\n",
       "</style>\n",
       "<table border=\"1\" class=\"dataframe\">\n",
       "  <thead>\n",
       "    <tr style=\"text-align: right;\">\n",
       "      <th></th>\n",
       "      <th>id</th>\n",
       "      <th>tag</th>\n",
       "      <th>tag_relation</th>\n",
       "      <th>tag_code</th>\n",
       "      <th>type</th>\n",
       "    </tr>\n",
       "  </thead>\n",
       "  <tbody>\n",
       "    <tr>\n",
       "      <th>0</th>\n",
       "      <td>964285bee74e430cb22441e59a968e76</td>\n",
       "      <td>General news</td>\n",
       "      <td>direct_ancestor</td>\n",
       "      <td>f25af2d07e4e100484f5df092526b43e</td>\n",
       "      <td>subject</td>\n",
       "    </tr>\n",
       "    <tr>\n",
       "      <th>1</th>\n",
       "      <td>964285bee74e430cb22441e59a968e76</td>\n",
       "      <td>Crime</td>\n",
       "      <td>direct</td>\n",
       "      <td>48612b807c2b4b93bbbacbf54f547ad5</td>\n",
       "      <td>subject</td>\n",
       "    </tr>\n",
       "    <tr>\n",
       "      <th>2</th>\n",
       "      <td>964285bee74e430cb22441e59a968e76</td>\n",
       "      <td>Arrests</td>\n",
       "      <td>direct</td>\n",
       "      <td>b2a4c0a08315100485d9d5a57deba703</td>\n",
       "      <td>subject</td>\n",
       "    </tr>\n",
       "    <tr>\n",
       "      <th>3</th>\n",
       "      <td>964285bee74e430cb22441e59a968e76</td>\n",
       "      <td>Law and order</td>\n",
       "      <td>ancestor</td>\n",
       "      <td>17956128897810048ce8d56c852d093e</td>\n",
       "      <td>subject</td>\n",
       "    </tr>\n",
       "    <tr>\n",
       "      <th>4</th>\n",
       "      <td>964285bee74e430cb22441e59a968e76</td>\n",
       "      <td>Criminal investigations</td>\n",
       "      <td>direct</td>\n",
       "      <td>d1720f70883210048576ae2ac3a6923e</td>\n",
       "      <td>subject</td>\n",
       "    </tr>\n",
       "  </tbody>\n",
       "</table>\n",
       "</div>"
      ],
      "text/plain": [
       "                                 id                      tag     tag_relation  \\\n",
       "0  964285bee74e430cb22441e59a968e76             General news  direct_ancestor   \n",
       "1  964285bee74e430cb22441e59a968e76                    Crime           direct   \n",
       "2  964285bee74e430cb22441e59a968e76                  Arrests           direct   \n",
       "3  964285bee74e430cb22441e59a968e76            Law and order         ancestor   \n",
       "4  964285bee74e430cb22441e59a968e76  Criminal investigations           direct   \n",
       "\n",
       "                           tag_code     type  \n",
       "0  f25af2d07e4e100484f5df092526b43e  subject  \n",
       "1  48612b807c2b4b93bbbacbf54f547ad5  subject  \n",
       "2  b2a4c0a08315100485d9d5a57deba703  subject  \n",
       "3  17956128897810048ce8d56c852d093e  subject  \n",
       "4  d1720f70883210048576ae2ac3a6923e  subject  "
      ]
     },
     "execution_count": 6,
     "metadata": {},
     "output_type": "execute_result"
    }
   ],
   "source": [
    "art_alltags.head()"
   ]
  },
  {
   "cell_type": "code",
   "execution_count": 50,
   "metadata": {},
   "outputs": [],
   "source": [
    "img_sum = pd.read_csv(\"../data/clean_data/image_summary.csv\")"
   ]
  },
  {
   "cell_type": "code",
   "execution_count": 51,
   "metadata": {
    "collapsed": true
   },
   "outputs": [
    {
     "data": {
      "text/html": [
       "<div>\n",
       "<style scoped>\n",
       "    .dataframe tbody tr th:only-of-type {\n",
       "        vertical-align: middle;\n",
       "    }\n",
       "\n",
       "    .dataframe tbody tr th {\n",
       "        vertical-align: top;\n",
       "    }\n",
       "\n",
       "    .dataframe thead th {\n",
       "        text-align: right;\n",
       "    }\n",
       "</style>\n",
       "<table border=\"1\" class=\"dataframe\">\n",
       "  <thead>\n",
       "    <tr style=\"text-align: right;\">\n",
       "      <th></th>\n",
       "      <th>id</th>\n",
       "      <th>article_idx</th>\n",
       "      <th>content_type</th>\n",
       "      <th>language</th>\n",
       "      <th>city</th>\n",
       "      <th>country</th>\n",
       "      <th>long_lat</th>\n",
       "      <th>title</th>\n",
       "      <th>headline</th>\n",
       "      <th>headline_extended</th>\n",
       "      <th>summary</th>\n",
       "    </tr>\n",
       "  </thead>\n",
       "  <tbody>\n",
       "    <tr>\n",
       "      <th>0</th>\n",
       "      <td>27ddb32b9213462fa24875acec7e083d</td>\n",
       "      <td>289016805c7440ceb4e6a54d63b007bc</td>\n",
       "      <td>picture</td>\n",
       "      <td>en</td>\n",
       "      <td>Waters near Yamatotai</td>\n",
       "      <td>JAPAN</td>\n",
       "      <td>NaN</td>\n",
       "      <td>Japan North Korea Poachers</td>\n",
       "      <td>Japan North Korea Poachers</td>\n",
       "      <td>NaN</td>\n",
       "      <td>In this late May, 2019, image from video provi...</td>\n",
       "    </tr>\n",
       "    <tr>\n",
       "      <th>1</th>\n",
       "      <td>aa354bc9dcfb4894a2c71174e25934b1</td>\n",
       "      <td>0738a522152d4096ad17d98d80bbb900</td>\n",
       "      <td>picture</td>\n",
       "      <td>en</td>\n",
       "      <td>Tokyo</td>\n",
       "      <td>JAPAN</td>\n",
       "      <td>[139.69171, 35.6895]</td>\n",
       "      <td>Japan Detention Center</td>\n",
       "      <td>Japan Detention Center</td>\n",
       "      <td>NaN</td>\n",
       "      <td>A solitary cell for inmate is opened to the me...</td>\n",
       "    </tr>\n",
       "    <tr>\n",
       "      <th>2</th>\n",
       "      <td>320481aa269c4bde8e8cce11849d765d</td>\n",
       "      <td>2886bcd059164953ac66fb325a30ff9f</td>\n",
       "      <td>picture</td>\n",
       "      <td>en</td>\n",
       "      <td>Charlotte</td>\n",
       "      <td>UNITED STATES</td>\n",
       "      <td>[-80.84313, 35.22709]</td>\n",
       "      <td>APTOPIX College Campus Shooting-North Carolina</td>\n",
       "      <td>APTOPIX College Campus Shooting-North Carolina</td>\n",
       "      <td>NaN</td>\n",
       "      <td>UNC Charlotte Chancellor Philip DuBois receive...</td>\n",
       "    </tr>\n",
       "    <tr>\n",
       "      <th>3</th>\n",
       "      <td>9b5b6528dd3a4415b1918c986d26c115</td>\n",
       "      <td>5b56f4976d71418683e9effecd4e117d</td>\n",
       "      <td>picture</td>\n",
       "      <td>en</td>\n",
       "      <td>Boston</td>\n",
       "      <td>UNITED STATES</td>\n",
       "      <td>[-71.05977, 42.35843]</td>\n",
       "      <td>College Admissions Bribery</td>\n",
       "      <td>College Admissions Bribery</td>\n",
       "      <td>NaN</td>\n",
       "      <td>Mark Riddell, right, arrives at federal court ...</td>\n",
       "    </tr>\n",
       "    <tr>\n",
       "      <th>4</th>\n",
       "      <td>6203eb402fc541b9ad95a9e1b8e19e7a</td>\n",
       "      <td>923922c2e9344d8793cf131ef3d4f4c4</td>\n",
       "      <td>picture</td>\n",
       "      <td>en</td>\n",
       "      <td>New York</td>\n",
       "      <td>UNITED STATES</td>\n",
       "      <td>[-74.00597, 40.71427]</td>\n",
       "      <td>Financial Markets Wall Street Slack IPO</td>\n",
       "      <td>Financial Markets Wall Street Slack IPO</td>\n",
       "      <td>NaN</td>\n",
       "      <td>Slack CEO Stewart Butterfield poses for photos...</td>\n",
       "    </tr>\n",
       "  </tbody>\n",
       "</table>\n",
       "</div>"
      ],
      "text/plain": [
       "                                 id                       article_idx  \\\n",
       "0  27ddb32b9213462fa24875acec7e083d  289016805c7440ceb4e6a54d63b007bc   \n",
       "1  aa354bc9dcfb4894a2c71174e25934b1  0738a522152d4096ad17d98d80bbb900   \n",
       "2  320481aa269c4bde8e8cce11849d765d  2886bcd059164953ac66fb325a30ff9f   \n",
       "3  9b5b6528dd3a4415b1918c986d26c115  5b56f4976d71418683e9effecd4e117d   \n",
       "4  6203eb402fc541b9ad95a9e1b8e19e7a  923922c2e9344d8793cf131ef3d4f4c4   \n",
       "\n",
       "  content_type language                   city        country  \\\n",
       "0      picture       en  Waters near Yamatotai          JAPAN   \n",
       "1      picture       en                  Tokyo          JAPAN   \n",
       "2      picture       en              Charlotte  UNITED STATES   \n",
       "3      picture       en                 Boston  UNITED STATES   \n",
       "4      picture       en               New York  UNITED STATES   \n",
       "\n",
       "                long_lat                                           title  \\\n",
       "0                    NaN                      Japan North Korea Poachers   \n",
       "1   [139.69171, 35.6895]                          Japan Detention Center   \n",
       "2  [-80.84313, 35.22709]  APTOPIX College Campus Shooting-North Carolina   \n",
       "3  [-71.05977, 42.35843]                      College Admissions Bribery   \n",
       "4  [-74.00597, 40.71427]         Financial Markets Wall Street Slack IPO   \n",
       "\n",
       "                                         headline  headline_extended  \\\n",
       "0                      Japan North Korea Poachers                NaN   \n",
       "1                          Japan Detention Center                NaN   \n",
       "2  APTOPIX College Campus Shooting-North Carolina                NaN   \n",
       "3                      College Admissions Bribery                NaN   \n",
       "4         Financial Markets Wall Street Slack IPO                NaN   \n",
       "\n",
       "                                             summary  \n",
       "0  In this late May, 2019, image from video provi...  \n",
       "1  A solitary cell for inmate is opened to the me...  \n",
       "2  UNC Charlotte Chancellor Philip DuBois receive...  \n",
       "3  Mark Riddell, right, arrives at federal court ...  \n",
       "4  Slack CEO Stewart Butterfield poses for photos...  "
      ]
     },
     "execution_count": 51,
     "metadata": {},
     "output_type": "execute_result"
    }
   ],
   "source": [
    "img_sum.head()"
   ]
  },
  {
   "cell_type": "code",
   "execution_count": 74,
   "metadata": {},
   "outputs": [
    {
     "name": "stdout",
     "output_type": "stream",
     "text": [
      "[\"In this June 27, 2019 photo provided by the Livingston County Sheriff's Office in Geneseo, N.Y., Brian Seaver is shown. Authorities say Seaver has been arrested after he called 911 to say he was violating the terms of his probation. (Livingston County Sheriff's Office via AP)\"]\n"
     ]
    }
   ],
   "source": [
    "print(img_sum[img_sum['id'] == img_id[0]].summary.values)"
   ]
  },
  {
   "cell_type": "code",
   "execution_count": 80,
   "metadata": {},
   "outputs": [
    {
     "data": {
      "text/plain": [
       "[('Livingston County Sheriff', 0.07767728313811825),\n",
       " ('Brian Seaver', 0.053269755027220866),\n",
       " ('Office', 0.0337250888542908),\n",
       " ('June', 0.022534081307539065),\n",
       " ('Geneseo', 0.022260652999376126),\n",
       " ('photo', 0.021978284949937543),\n",
       " ('AP', 0.02045312455479919),\n",
       " ('term', 0.020262423006357798),\n",
       " ('probation', 0.020261167809191825),\n",
       " ('authority', 0.01971417825413472)]"
      ]
     },
     "execution_count": 80,
     "metadata": {},
     "output_type": "execute_result"
    }
   ],
   "source": [
    "img_caption = img_sum[img_sum['id'] == img_id[0]].summary.values[0]\n",
    "textacy.ke.textrank(textacy.make_spacy_doc(img_caption, lang=en), normalize=\"lemma\", topn=10, window_size=3)"
   ]
  },
  {
   "cell_type": "code",
   "execution_count": 52,
   "metadata": {},
   "outputs": [],
   "source": [
    "img_df = img_sum[img_sum['article_idx'] == article_id]"
   ]
  },
  {
   "cell_type": "code",
   "execution_count": 57,
   "metadata": {},
   "outputs": [
    {
     "data": {
      "text/plain": [
       "array(['0d660832c63448f7b93515114a04a338'], dtype=object)"
      ]
     },
     "execution_count": 57,
     "metadata": {},
     "output_type": "execute_result"
    }
   ],
   "source": [
    "img_id = img_df['id'].values\n",
    "img_id"
   ]
  },
  {
   "cell_type": "code",
   "execution_count": 66,
   "metadata": {},
   "outputs": [
    {
     "data": {
      "text/plain": [
       "<matplotlib.image.AxesImage at 0x1a320a3e80>"
      ]
     },
     "execution_count": 66,
     "metadata": {},
     "output_type": "execute_result"
    },
    {
     "data": {
      "image/png": "[encoded data removed]",
      "text/plain": [
       "<Figure size 432x288 with 1 Axes>"
      ]
     },
     "metadata": {
      "needs_background": "light"
     },
     "output_type": "display_data"
    }
   ],
   "source": [
    "img = plt.imread(f\"../data/thumbnail/{img_id[0]}.jpg\")\n",
    "plt.imshow(img)"
   ]
  },
  {
   "cell_type": "code",
   "execution_count": 71,
   "metadata": {},
   "outputs": [
    {
     "data": {
      "text/html": [
       "<div>\n",
       "<style scoped>\n",
       "    .dataframe tbody tr th:only-of-type {\n",
       "        vertical-align: middle;\n",
       "    }\n",
       "\n",
       "    .dataframe tbody tr th {\n",
       "        vertical-align: top;\n",
       "    }\n",
       "\n",
       "    .dataframe thead th {\n",
       "        text-align: right;\n",
       "    }\n",
       "</style>\n",
       "<table border=\"1\" class=\"dataframe\">\n",
       "  <thead>\n",
       "    <tr style=\"text-align: right;\">\n",
       "      <th></th>\n",
       "      <th>id</th>\n",
       "      <th>article_idx</th>\n",
       "      <th>tag</th>\n",
       "      <th>tag_relation</th>\n",
       "      <th>tag_code</th>\n",
       "      <th>type</th>\n",
       "    </tr>\n",
       "  </thead>\n",
       "  <tbody>\n",
       "    <tr>\n",
       "      <th>48218</th>\n",
       "      <td>0d660832c63448f7b93515114a04a338</td>\n",
       "      <td>964285bee74e430cb22441e59a968e76</td>\n",
       "      <td>NaN</td>\n",
       "      <td>NaN</td>\n",
       "      <td>NaN</td>\n",
       "      <td>person</td>\n",
       "    </tr>\n",
       "    <tr>\n",
       "      <th>185288</th>\n",
       "      <td>0d660832c63448f7b93515114a04a338</td>\n",
       "      <td>964285bee74e430cb22441e59a968e76</td>\n",
       "      <td>New York</td>\n",
       "      <td>direct</td>\n",
       "      <td>b58f18a082c6100487fbdf092526b43e</td>\n",
       "      <td>place</td>\n",
       "    </tr>\n",
       "    <tr>\n",
       "      <th>185289</th>\n",
       "      <td>0d660832c63448f7b93515114a04a338</td>\n",
       "      <td>964285bee74e430cb22441e59a968e76</td>\n",
       "      <td>United States</td>\n",
       "      <td>direct</td>\n",
       "      <td>661e48387d5b10048291c076b8e3055c</td>\n",
       "      <td>place</td>\n",
       "    </tr>\n",
       "    <tr>\n",
       "      <th>185290</th>\n",
       "      <td>0d660832c63448f7b93515114a04a338</td>\n",
       "      <td>964285bee74e430cb22441e59a968e76</td>\n",
       "      <td>North America</td>\n",
       "      <td>ancestor</td>\n",
       "      <td>661850e07d5b100481f7c076b8e3055c</td>\n",
       "      <td>place</td>\n",
       "    </tr>\n",
       "    <tr>\n",
       "      <th>56830</th>\n",
       "      <td>0d660832c63448f7b93515114a04a338</td>\n",
       "      <td>964285bee74e430cb22441e59a968e76</td>\n",
       "      <td>NaN</td>\n",
       "      <td>NaN</td>\n",
       "      <td>NaN</td>\n",
       "      <td>org</td>\n",
       "    </tr>\n",
       "  </tbody>\n",
       "</table>\n",
       "</div>"
      ],
      "text/plain": [
       "                                      id                       article_idx  \\\n",
       "48218   0d660832c63448f7b93515114a04a338  964285bee74e430cb22441e59a968e76   \n",
       "185288  0d660832c63448f7b93515114a04a338  964285bee74e430cb22441e59a968e76   \n",
       "185289  0d660832c63448f7b93515114a04a338  964285bee74e430cb22441e59a968e76   \n",
       "185290  0d660832c63448f7b93515114a04a338  964285bee74e430cb22441e59a968e76   \n",
       "56830   0d660832c63448f7b93515114a04a338  964285bee74e430cb22441e59a968e76   \n",
       "\n",
       "                  tag tag_relation                          tag_code    type  \n",
       "48218             NaN          NaN                               NaN  person  \n",
       "185288       New York       direct  b58f18a082c6100487fbdf092526b43e   place  \n",
       "185289  United States       direct  661e48387d5b10048291c076b8e3055c   place  \n",
       "185290  North America     ancestor  661850e07d5b100481f7c076b8e3055c   place  \n",
       "56830             NaN          NaN                               NaN     org  "
      ]
     },
     "execution_count": 71,
     "metadata": {},
     "output_type": "execute_result"
    }
   ],
   "source": [
    "img_alltags[img_alltags['id'] == img_id[0]]"
   ]
  },
  {
   "cell_type": "code",
   "execution_count": null,
   "metadata": {},
   "outputs": [],
   "source": [
    "pd.read_csv(\"../data/clean_data/i\")"
   ]
  },
  {
   "cell_type": "code",
   "execution_count": 25,
   "metadata": {},
   "outputs": [
    {
     "data": {
      "text/html": [
       "<div>\n",
       "<style scoped>\n",
       "    .dataframe tbody tr th:only-of-type {\n",
       "        vertical-align: middle;\n",
       "    }\n",
       "\n",
       "    .dataframe tbody tr th {\n",
       "        vertical-align: top;\n",
       "    }\n",
       "\n",
       "    .dataframe thead th {\n",
       "        text-align: right;\n",
       "    }\n",
       "</style>\n",
       "<table border=\"1\" class=\"dataframe\">\n",
       "  <thead>\n",
       "    <tr style=\"text-align: right;\">\n",
       "      <th></th>\n",
       "      <th>tag</th>\n",
       "      <th>type</th>\n",
       "    </tr>\n",
       "  </thead>\n",
       "  <tbody>\n",
       "    <tr>\n",
       "      <th>0</th>\n",
       "      <td>General news</td>\n",
       "      <td>subject</td>\n",
       "    </tr>\n",
       "    <tr>\n",
       "      <th>1</th>\n",
       "      <td>Crime</td>\n",
       "      <td>subject</td>\n",
       "    </tr>\n",
       "    <tr>\n",
       "      <th>2</th>\n",
       "      <td>Arrests</td>\n",
       "      <td>subject</td>\n",
       "    </tr>\n",
       "    <tr>\n",
       "      <th>3</th>\n",
       "      <td>Law and order</td>\n",
       "      <td>subject</td>\n",
       "    </tr>\n",
       "    <tr>\n",
       "      <th>4</th>\n",
       "      <td>Criminal investigations</td>\n",
       "      <td>subject</td>\n",
       "    </tr>\n",
       "    <tr>\n",
       "      <th>0</th>\n",
       "      <td>NaN</td>\n",
       "      <td>person</td>\n",
       "    </tr>\n",
       "    <tr>\n",
       "      <th>0</th>\n",
       "      <td>New York</td>\n",
       "      <td>place</td>\n",
       "    </tr>\n",
       "    <tr>\n",
       "      <th>1</th>\n",
       "      <td>United States</td>\n",
       "      <td>place</td>\n",
       "    </tr>\n",
       "    <tr>\n",
       "      <th>2</th>\n",
       "      <td>North America</td>\n",
       "      <td>place</td>\n",
       "    </tr>\n",
       "    <tr>\n",
       "      <th>0</th>\n",
       "      <td>NaN</td>\n",
       "      <td>org</td>\n",
       "    </tr>\n",
       "  </tbody>\n",
       "</table>\n",
       "</div>"
      ],
      "text/plain": [
       "                       tag     type\n",
       "0             General news  subject\n",
       "1                    Crime  subject\n",
       "2                  Arrests  subject\n",
       "3            Law and order  subject\n",
       "4  Criminal investigations  subject\n",
       "0                      NaN   person\n",
       "0                 New York    place\n",
       "1            United States    place\n",
       "2            North America    place\n",
       "0                      NaN      org"
      ]
     },
     "execution_count": 25,
     "metadata": {},
     "output_type": "execute_result"
    }
   ],
   "source": [
    "article_id = '964285bee74e430cb22441e59a968e76'\n",
    "art_alltags[art_alltags['id'] == article_id][['tag', 'type']]"
   ]
  },
  {
   "cell_type": "code",
   "execution_count": 46,
   "metadata": {},
   "outputs": [
    {
     "data": {
      "text/plain": [
       "array(['General news', 'Crime', 'Arrests', 'Law and order',\n",
       "       'Criminal investigations', 'New York', 'United States',\n",
       "       'North America'], dtype=object)"
      ]
     },
     "execution_count": 46,
     "metadata": {},
     "output_type": "execute_result"
    }
   ],
   "source": [
    "entities = pd.DataFrame.dropna(art_alltags[art_alltags['id'] == article_id])['tag'].values\n",
    "entities"
   ]
  },
  {
   "cell_type": "code",
   "execution_count": 26,
   "metadata": {},
   "outputs": [
    {
     "data": {
      "text/plain": [
       "array(['subject', 'subject', 'subject', 'subject', 'subject', 'person',\n",
       "       'place', 'place', 'place', 'org'], dtype=object)"
      ]
     },
     "execution_count": 26,
     "metadata": {},
     "output_type": "execute_result"
    }
   ],
   "source": [
    "art_alltags[art_alltags['id'] == article_id]['type'].values"
   ]
  },
  {
   "cell_type": "code",
   "execution_count": 27,
   "metadata": {},
   "outputs": [],
   "source": [
    "with open(f\"../data/full_text/{article_id}.json\") as json_file:\n",
    "    data = json.load(json_file)\n",
    "article_id = data['id']\n",
    "text = data['full_text']"
   ]
  },
  {
   "cell_type": "code",
   "execution_count": 28,
   "metadata": {},
   "outputs": [
    {
     "data": {
      "text/plain": [
       "{'id': '964285bee74e430cb22441e59a968e76',\n",
       " 'full_text': \"AVON, N.Y. (AP) — Authorities say a western New York man has been arrested after he called 911 to say he was violating the terms of his probation.The Livingston County sheriff's office says 62-year-old Brian Seaver, of Avon, called 911 on Thursday and then hung up.Sheriff Thomas Dougherty says a deputy went to investigate and determined that Seaver had earlier called 911 to report that he was drinking and violating the conditions of his probation.Dougherty says Seaver had four active orders of protection ordering him to stay away from a particular person, and he was with that person.Seaver was arrested on four counts of felony criminal contempt. It's not clear if he has a lawyer who can speak for him.\"}"
      ]
     },
     "execution_count": 28,
     "metadata": {},
     "output_type": "execute_result"
    }
   ],
   "source": [
    "data"
   ]
  },
  {
   "cell_type": "code",
   "execution_count": 35,
   "metadata": {},
   "outputs": [],
   "source": [
    "# with open(f\"../data/article/{article_id}.json\") as json_file:\n",
    "#     metadata = json.load(json_file)\n",
    "# # text = data['full_text']\n",
    "# # for people in metadata['data']['item']['person']:\n",
    "# #     print(people['name'])\n",
    "\n",
    "# # Get tagging API entities\n",
    "# entities = []\n",
    "# cat_type = ['person', subject', 'organisation', 'place']\n",
    "# for cat in cat_type:\n",
    "#     for data in metadata['data']['item'][cat]:\n",
    "#         entities.append(data['name']) # concat all metadata into this\n",
    "# entities = np.array(entities)\n",
    "# entities = entities[np.where(entities != \"i\")] # drop \"i\" from editor"
   ]
  },
  {
   "cell_type": "code",
   "execution_count": 36,
   "metadata": {},
   "outputs": [
    {
     "data": {
      "text/plain": [
       "\"AVON, N.Y. (AP) — Authorities say a western New York man has been arrested after he called 911 to say he was violating the terms of his probation.The Livingston County sheriff's office says 62-year-old Brian Seaver, of Avon, called 911 on Thursday and then hung up.Sheriff Thomas Dougherty says a deputy went to investigate and determined that Seaver had earlier called 911 to report that he was drinking and violating the conditions of his probation.Dougherty says Seaver had four active orders of protection ordering him to stay away from a particular person, and he was with that person.Seaver was arrested on four counts of felony criminal contempt. It's not clear if he has a lawyer who can speak for him.\""
      ]
     },
     "execution_count": 36,
     "metadata": {},
     "output_type": "execute_result"
    }
   ],
   "source": [
    "text"
   ]
  },
  {
   "cell_type": "code",
   "execution_count": 48,
   "metadata": {},
   "outputs": [],
   "source": [
    "en = textacy.load_spacy_lang(\"en_core_web_sm\", disable=(\"parser\",))\n",
    "doc = textacy.make_spacy_doc(text, lang=en)"
   ]
  },
  {
   "cell_type": "code",
   "execution_count": 14,
   "metadata": {},
   "outputs": [],
   "source": [
    "import textacy.ke"
   ]
  },
  {
   "cell_type": "code",
   "execution_count": 47,
   "metadata": {},
   "outputs": [
    {
     "name": "stdout",
     "output_type": "stream",
     "text": [
      "Entities before textrank: ['Arrests' 'Crime' 'Criminal investigations' 'General news'\n",
      " 'Law and order' 'New York' 'North America' 'United States']\n"
     ]
    },
    {
     "data": {
      "text/plain": [
       "(array(['western New York man'], dtype='<U25'), array([0.04]), ['New York'])"
      ]
     },
     "execution_count": 47,
     "metadata": {},
     "output_type": "execute_result"
    }
   ],
   "source": [
    "# Extract textrank of named entities\n",
    "textrank_entities, textrank_score, entities_list = extract_textrank_from_text(text, tagging_API_entities = entities)\n",
    "textrank_entities, textrank_score, entities_list"
   ]
  },
  {
   "cell_type": "code",
   "execution_count": 49,
   "metadata": {},
   "outputs": [
    {
     "data": {
      "text/plain": [
       "[('old Brian Seaver', 0.03851944536658275),\n",
       " ('western New York man', 0.03580811632003657),\n",
       " ('Livingston County sheriff', 0.02845169412896452),\n",
       " ('Sheriff Thomas Dougherty', 0.026781333097282166),\n",
       " ('felony criminal contempt', 0.02605804076735671),\n",
       " ('particular person', 0.023410834865791555),\n",
       " ('active order', 0.019563687403313712),\n",
       " ('AP', 0.010439974828442),\n",
       " ('probation', 0.00971709526479497),\n",
       " ('office', 0.009575940379209273)]"
      ]
     },
     "execution_count": 49,
     "metadata": {},
     "output_type": "execute_result"
    }
   ],
   "source": [
    "textacy.ke.textrank(doc, normalize=\"lemma\", topn=10, window_size=3)"
   ]
  },
  {
   "cell_type": "code",
   "execution_count": 24,
   "metadata": {},
   "outputs": [
    {
     "data": {
      "text/html": [
       "<div>\n",
       "<style scoped>\n",
       "    .dataframe tbody tr th:only-of-type {\n",
       "        vertical-align: middle;\n",
       "    }\n",
       "\n",
       "    .dataframe tbody tr th {\n",
       "        vertical-align: top;\n",
       "    }\n",
       "\n",
       "    .dataframe thead th {\n",
       "        text-align: right;\n",
       "    }\n",
       "</style>\n",
       "<table border=\"1\" class=\"dataframe\">\n",
       "  <thead>\n",
       "    <tr style=\"text-align: right;\">\n",
       "      <th></th>\n",
       "      <th>TextRank Bags of Words</th>\n",
       "      <th>TextRank Importance Score</th>\n",
       "      <th>Tagging API Named Entities</th>\n",
       "    </tr>\n",
       "  </thead>\n",
       "  <tbody>\n",
       "    <tr>\n",
       "      <th>0</th>\n",
       "      <td>Party leader Kemal Kilicdaroglu</td>\n",
       "      <td>0.05</td>\n",
       "      <td>Kemal Kilicdaroglu</td>\n",
       "    </tr>\n",
       "    <tr>\n",
       "      <th>1</th>\n",
       "      <td>President Recep Tayyip Erdogan</td>\n",
       "      <td>0.04</td>\n",
       "      <td>Recep Tayyip Erdogan</td>\n",
       "    </tr>\n",
       "    <tr>\n",
       "      <th>2</th>\n",
       "      <td>Turkey</td>\n",
       "      <td>0.02</td>\n",
       "      <td>Turkey</td>\n",
       "    </tr>\n",
       "    <tr>\n",
       "      <th>3</th>\n",
       "      <td>Ankara</td>\n",
       "      <td>0.01</td>\n",
       "      <td>Ankara</td>\n",
       "    </tr>\n",
       "  </tbody>\n",
       "</table>\n",
       "</div>"
      ],
      "text/plain": [
       "            TextRank Bags of Words TextRank Importance Score  \\\n",
       "0  Party leader Kemal Kilicdaroglu                      0.05   \n",
       "1   President Recep Tayyip Erdogan                      0.04   \n",
       "2                           Turkey                      0.02   \n",
       "3                           Ankara                      0.01   \n",
       "\n",
       "  Tagging API Named Entities  \n",
       "0         Kemal Kilicdaroglu  \n",
       "1       Recep Tayyip Erdogan  \n",
       "2                     Turkey  \n",
       "3                     Ankara  "
      ]
     },
     "execution_count": 24,
     "metadata": {},
     "output_type": "execute_result"
    }
   ],
   "source": [
    "pd.DataFrame([textrank_entities, textrank_score, entities_list]).T.rename(columns = \\\n",
    "              {0:\"TextRank Bags of Words\", 1:\"TextRank Importance Score\", 2:\"Tagging API Named Entities\"})"
   ]
  },
  {
   "cell_type": "code",
   "execution_count": 10,
   "metadata": {},
   "outputs": [
    {
     "data": {
      "text/plain": [
       "137"
      ]
     },
     "execution_count": 10,
     "metadata": {},
     "output_type": "execute_result"
    }
   ],
   "source": [
    "ts.basic_counts['n_words'] ## CHECK ## doesn't match"
   ]
  },
  {
   "cell_type": "markdown",
   "metadata": {},
   "source": [
    "## TextRank"
   ]
  },
  {
   "cell_type": "code",
   "execution_count": 11,
   "metadata": {},
   "outputs": [],
   "source": [
    "import textacy.ke"
   ]
  },
  {
   "cell_type": "code",
   "execution_count": 12,
   "metadata": {},
   "outputs": [
    {
     "ename": "TypeError",
     "evalue": "get_normalized_text() missing 1 required positional argument: 'span_or_token'",
     "output_type": "error",
     "traceback": [
      "\u001b[0;31m---------------------------------------------------------------------------\u001b[0m",
      "\u001b[0;31mTypeError\u001b[0m                                 Traceback (most recent call last)",
      "\u001b[0;32m<ipython-input-12-7ce3c4f3a86f>\u001b[0m in \u001b[0;36m<module>\u001b[0;34m()\u001b[0m\n\u001b[0;32m----> 1\u001b[0;31m \u001b[0mtextacy\u001b[0m\u001b[0;34m.\u001b[0m\u001b[0mspacier\u001b[0m\u001b[0;34m.\u001b[0m\u001b[0mutils\u001b[0m\u001b[0;34m.\u001b[0m\u001b[0mget_normalized_text\u001b[0m\u001b[0;34m(\u001b[0m\u001b[0;34m)\u001b[0m\u001b[0;34m\u001b[0m\u001b[0;34m\u001b[0m\u001b[0m\n\u001b[0m",
      "\u001b[0;31mTypeError\u001b[0m: get_normalized_text() missing 1 required positional argument: 'span_or_token'"
     ]
    }
   ],
   "source": [
    "textacy.spacier.utils.get_normalized_text()"
   ]
  },
  {
   "cell_type": "code",
   "execution_count": 83,
   "metadata": {},
   "outputs": [
    {
     "data": {
      "text/plain": [
       "137"
      ]
     },
     "execution_count": 83,
     "metadata": {},
     "output_type": "execute_result"
    }
   ],
   "source": [
    "textacy.TextStats(doc).basic_counts['n_words']\n"
   ]
  },
  {
   "cell_type": "code",
   "execution_count": 85,
   "metadata": {
    "scrolled": true
   },
   "outputs": [
    {
     "data": {
      "text/plain": [
       "[('Party leader Kemal Kilicdaroglu', 0.047500269373415754),\n",
       " ('opposition party leader', 0.04491151046482916),\n",
       " ('Interior Minister Suleyman Soylu', 0.0393905668124247),\n",
       " ('President Recep Tayyip Erdogan', 0.03529180424934934),\n",
       " ('municipal election', 0.02023076940656441),\n",
       " ('kurdish rebel', 0.02017311337306259),\n",
       " ('mayoral election', 0.019878721600533583),\n",
       " ('Republican People', 0.019007513261570123),\n",
       " ('Turkey', 0.018045623982279352),\n",
       " ('divisive campaign', 0.014757984913261336)]"
      ]
     },
     "execution_count": 85,
     "metadata": {},
     "output_type": "execute_result"
    }
   ],
   "source": [
    "textacy.ke.textrank(doc, normalize=\"lemma\", topn=10, window_size=3)"
   ]
  },
  {
   "cell_type": "code",
   "execution_count": 87,
   "metadata": {},
   "outputs": [
    {
     "data": {
      "text/plain": [
       "[('Party leader Kemal Kilicdaroglu', 0.04617915923493072),\n",
       " ('opposition party leader', 0.04196247513260644),\n",
       " ('President Recep Tayyip Erdogan', 0.03830877804676011),\n",
       " ('Interior Minister Suleyman Soylu', 0.037198656876395696),\n",
       " ('municipal election', 0.020586955135560664),\n",
       " ('kurdish rebel', 0.020301421625340613),\n",
       " ('mayoral election', 0.01961960693434969),\n",
       " ('Republican People', 0.017306950928731746),\n",
       " ('Turkey', 0.015486631465300623),\n",
       " ('divisive campaign', 0.015011340305379331)]"
      ]
     },
     "execution_count": 87,
     "metadata": {},
     "output_type": "execute_result"
    }
   ],
   "source": [
    "textacy.ke.textrank(doc, normalize=\"lemma\", topn=10, window_size=2)"
   ]
  },
  {
   "cell_type": "markdown",
   "metadata": {},
   "source": [
    "## Use named entities only in TextRank"
   ]
  },
  {
   "cell_type": "code",
   "execution_count": 31,
   "metadata": {},
   "outputs": [],
   "source": [
    "entities_list_fulltext_df = pd.read_csv(\"../data/entities_list_full_text_dedup.csv\")"
   ]
  },
  {
   "cell_type": "code",
   "execution_count": 32,
   "metadata": {},
   "outputs": [
    {
     "data": {
      "text/plain": [
       "((764798, 5), (764798, 5))"
      ]
     },
     "execution_count": 32,
     "metadata": {},
     "output_type": "execute_result"
    }
   ],
   "source": [
    "entities_list_fulltext_df.shape, entities_list_fulltext_df.drop_duplicates(['text', 'article_id']).shape"
   ]
  },
  {
   "cell_type": "code",
   "execution_count": 33,
   "metadata": {},
   "outputs": [],
   "source": [
    "trial_id = '0a0e0db8ae42425897b6381481663611'\n",
    "trial_entities_df = entities_list_fulltext_df[entities_list_fulltext_df['article_id'] == '0a0e0db8ae42425897b6381481663611']\n"
   ]
  },
  {
   "cell_type": "code",
   "execution_count": 34,
   "metadata": {},
   "outputs": [
    {
     "data": {
      "text/plain": [
       "((15, 5), (15, 5))"
      ]
     },
     "execution_count": 34,
     "metadata": {},
     "output_type": "execute_result"
    }
   ],
   "source": [
    "trial_entities_df.shape, trial_entities_df.drop_duplicates(['text']).shape"
   ]
  },
  {
   "cell_type": "code",
   "execution_count": 35,
   "metadata": {},
   "outputs": [
    {
     "data": {
      "text/html": [
       "<div>\n",
       "<style scoped>\n",
       "    .dataframe tbody tr th:only-of-type {\n",
       "        vertical-align: middle;\n",
       "    }\n",
       "\n",
       "    .dataframe tbody tr th {\n",
       "        vertical-align: top;\n",
       "    }\n",
       "\n",
       "    .dataframe thead th {\n",
       "        text-align: right;\n",
       "    }\n",
       "</style>\n",
       "<table border=\"1\" class=\"dataframe\">\n",
       "  <thead>\n",
       "    <tr style=\"text-align: right;\">\n",
       "      <th></th>\n",
       "      <th>Unnamed: 0</th>\n",
       "      <th>Unnamed: 0.1</th>\n",
       "      <th>text</th>\n",
       "      <th>label</th>\n",
       "      <th>article_id</th>\n",
       "    </tr>\n",
       "  </thead>\n",
       "  <tbody>\n",
       "    <tr>\n",
       "      <th>50077</th>\n",
       "      <td>82862</td>\n",
       "      <td>0</td>\n",
       "      <td>ANKARA</td>\n",
       "      <td>ORG</td>\n",
       "      <td>0a0e0db8ae42425897b6381481663611</td>\n",
       "    </tr>\n",
       "    <tr>\n",
       "      <th>50078</th>\n",
       "      <td>82863</td>\n",
       "      <td>1</td>\n",
       "      <td>Turkey</td>\n",
       "      <td>GPE</td>\n",
       "      <td>0a0e0db8ae42425897b6381481663611</td>\n",
       "    </tr>\n",
       "    <tr>\n",
       "      <th>50079</th>\n",
       "      <td>82864</td>\n",
       "      <td>2</td>\n",
       "      <td>AP</td>\n",
       "      <td>ORG</td>\n",
       "      <td>0a0e0db8ae42425897b6381481663611</td>\n",
       "    </tr>\n",
       "    <tr>\n",
       "      <th>50080</th>\n",
       "      <td>82866</td>\n",
       "      <td>4</td>\n",
       "      <td>Republican People's Party</td>\n",
       "      <td>ORG</td>\n",
       "      <td>0a0e0db8ae42425897b6381481663611</td>\n",
       "    </tr>\n",
       "    <tr>\n",
       "      <th>50081</th>\n",
       "      <td>82867</td>\n",
       "      <td>5</td>\n",
       "      <td>Kemal Kilicdaroglu</td>\n",
       "      <td>PERSON</td>\n",
       "      <td>0a0e0db8ae42425897b6381481663611</td>\n",
       "    </tr>\n",
       "    <tr>\n",
       "      <th>50082</th>\n",
       "      <td>82868</td>\n",
       "      <td>6</td>\n",
       "      <td>Ankara</td>\n",
       "      <td>GPE</td>\n",
       "      <td>0a0e0db8ae42425897b6381481663611</td>\n",
       "    </tr>\n",
       "    <tr>\n",
       "      <th>50083</th>\n",
       "      <td>82869</td>\n",
       "      <td>7</td>\n",
       "      <td>Kilicdaroglu</td>\n",
       "      <td>PERSON</td>\n",
       "      <td>0a0e0db8ae42425897b6381481663611</td>\n",
       "    </tr>\n",
       "    <tr>\n",
       "      <th>50084</th>\n",
       "      <td>82870</td>\n",
       "      <td>8</td>\n",
       "      <td>Suleyman Soylu</td>\n",
       "      <td>PERSON</td>\n",
       "      <td>0a0e0db8ae42425897b6381481663611</td>\n",
       "    </tr>\n",
       "    <tr>\n",
       "      <th>50085</th>\n",
       "      <td>82871</td>\n",
       "      <td>9</td>\n",
       "      <td>Kurdish</td>\n",
       "      <td>NORP</td>\n",
       "      <td>0a0e0db8ae42425897b6381481663611</td>\n",
       "    </tr>\n",
       "    <tr>\n",
       "      <th>50086</th>\n",
       "      <td>82872</td>\n",
       "      <td>10</td>\n",
       "      <td>Soylu</td>\n",
       "      <td>ORG</td>\n",
       "      <td>0a0e0db8ae42425897b6381481663611</td>\n",
       "    </tr>\n",
       "    <tr>\n",
       "      <th>50087</th>\n",
       "      <td>82874</td>\n",
       "      <td>12</td>\n",
       "      <td>pro-Kurdish</td>\n",
       "      <td>NORP</td>\n",
       "      <td>0a0e0db8ae42425897b6381481663611</td>\n",
       "    </tr>\n",
       "    <tr>\n",
       "      <th>50088</th>\n",
       "      <td>82877</td>\n",
       "      <td>15</td>\n",
       "      <td>rebels).\"The Republican People's Party</td>\n",
       "      <td>ORG</td>\n",
       "      <td>0a0e0db8ae42425897b6381481663611</td>\n",
       "    </tr>\n",
       "    <tr>\n",
       "      <th>50089</th>\n",
       "      <td>82879</td>\n",
       "      <td>17</td>\n",
       "      <td>Istanbul</td>\n",
       "      <td>GPE</td>\n",
       "      <td>0a0e0db8ae42425897b6381481663611</td>\n",
       "    </tr>\n",
       "    <tr>\n",
       "      <th>50090</th>\n",
       "      <td>82880</td>\n",
       "      <td>18</td>\n",
       "      <td>Recep Tayyip Erdogan's</td>\n",
       "      <td>PERSON</td>\n",
       "      <td>0a0e0db8ae42425897b6381481663611</td>\n",
       "    </tr>\n",
       "    <tr>\n",
       "      <th>50091</th>\n",
       "      <td>82881</td>\n",
       "      <td>19</td>\n",
       "      <td>Erdogan</td>\n",
       "      <td>PERSON</td>\n",
       "      <td>0a0e0db8ae42425897b6381481663611</td>\n",
       "    </tr>\n",
       "  </tbody>\n",
       "</table>\n",
       "</div>"
      ],
      "text/plain": [
       "       Unnamed: 0  Unnamed: 0.1                                    text  \\\n",
       "50077       82862             0                                  ANKARA   \n",
       "50078       82863             1                                  Turkey   \n",
       "50079       82864             2                                      AP   \n",
       "50080       82866             4               Republican People's Party   \n",
       "50081       82867             5                      Kemal Kilicdaroglu   \n",
       "50082       82868             6                                  Ankara   \n",
       "50083       82869             7                            Kilicdaroglu   \n",
       "50084       82870             8                          Suleyman Soylu   \n",
       "50085       82871             9                                 Kurdish   \n",
       "50086       82872            10                                   Soylu   \n",
       "50087       82874            12                             pro-Kurdish   \n",
       "50088       82877            15  rebels).\"The Republican People's Party   \n",
       "50089       82879            17                                Istanbul   \n",
       "50090       82880            18                  Recep Tayyip Erdogan's   \n",
       "50091       82881            19                                 Erdogan   \n",
       "\n",
       "        label                        article_id  \n",
       "50077     ORG  0a0e0db8ae42425897b6381481663611  \n",
       "50078     GPE  0a0e0db8ae42425897b6381481663611  \n",
       "50079     ORG  0a0e0db8ae42425897b6381481663611  \n",
       "50080     ORG  0a0e0db8ae42425897b6381481663611  \n",
       "50081  PERSON  0a0e0db8ae42425897b6381481663611  \n",
       "50082     GPE  0a0e0db8ae42425897b6381481663611  \n",
       "50083  PERSON  0a0e0db8ae42425897b6381481663611  \n",
       "50084  PERSON  0a0e0db8ae42425897b6381481663611  \n",
       "50085    NORP  0a0e0db8ae42425897b6381481663611  \n",
       "50086     ORG  0a0e0db8ae42425897b6381481663611  \n",
       "50087    NORP  0a0e0db8ae42425897b6381481663611  \n",
       "50088     ORG  0a0e0db8ae42425897b6381481663611  \n",
       "50089     GPE  0a0e0db8ae42425897b6381481663611  \n",
       "50090  PERSON  0a0e0db8ae42425897b6381481663611  \n",
       "50091  PERSON  0a0e0db8ae42425897b6381481663611  "
      ]
     },
     "execution_count": 35,
     "metadata": {},
     "output_type": "execute_result"
    }
   ],
   "source": [
    "trial_entities_df"
   ]
  },
  {
   "cell_type": "code",
   "execution_count": null,
   "metadata": {},
   "outputs": [],
   "source": [
    "extract_textrank_from_text()"
   ]
  },
  {
   "cell_type": "code",
   "execution_count": 50,
   "metadata": {},
   "outputs": [
    {
     "data": {
      "text/plain": [
       "array(['Turkey', 'Kemal Kilicdaroglu', 'Ankara', 'Kilicdaroglu',\n",
       "       'Suleyman Soylu', 'Istanbul', \"Recep Tayyip Erdogan's\", 'Erdogan'],\n",
       "      dtype=object)"
      ]
     },
     "execution_count": 50,
     "metadata": {},
     "output_type": "execute_result"
    }
   ],
   "source": [
    "# Get relevant entities\n",
    "rel_gp = ['PERSON', 'GPE']\n",
    "trial_entities = trial_entities_df['text'][trial_entities_df['label'].isin(rel_gp)].values\n",
    "trial_entities"
   ]
  },
  {
   "cell_type": "code",
   "execution_count": 102,
   "metadata": {},
   "outputs": [
    {
     "data": {
      "text/plain": [
       "array(['Ankara', 'Erdogan', 'Istanbul', 'Kemal Kilicdaroglu',\n",
       "       'Kilicdaroglu', \"Recep Tayyip Erdogan's\", 'Suleyman Soylu',\n",
       "       'Turkey'], dtype=object)"
      ]
     },
     "execution_count": 102,
     "metadata": {},
     "output_type": "execute_result"
    }
   ],
   "source": [
    "np.unique(trial_entities)"
   ]
  },
  {
   "cell_type": "code",
   "execution_count": 78,
   "metadata": {},
   "outputs": [
    {
     "data": {
      "text/plain": [
       "ANKARA, Turkey (AP) — Turkey's interior minister says nine people have been detained in the assault of an opposition party leader, who was hit during a soldier's funeral.Several protesters threw punches at Republican People's Party leader Kemal Kilicdaroglu at the funeral outside Ankara on Sunday. Kilicdaroglu was not injured.Interior Minister Suleyman Soylu said Monday nine people were detained for questioning.The soldier was killed Saturday in clashes with Kurdish rebels. Soylu appeared to justify Kilicdaroglu's assault by referring to the support a pro-Kurdish gave the opposition during Turkey's March 31 municipal elections.Soylu said: \"Everyone must take sides against the (rebels).\"The Republican People's Party won the mayoral elections in Ankara and Istanbul, supplanting President Recep Tayyip Erdogan's party.Erdogan led a divisive campaign, equating opposition parties with terrorists."
      ]
     },
     "execution_count": 78,
     "metadata": {},
     "output_type": "execute_result"
    }
   ],
   "source": [
    "doc"
   ]
  },
  {
   "cell_type": "code",
   "execution_count": 37,
   "metadata": {},
   "outputs": [],
   "source": [
    "window_size = 2\n",
    "trial_textrank = textacy.ke.textrank(doc, normalize=\"lemma\", topn=10, window_size=window_size)\n",
    "textrank_words = [textrank[0] for textrank in trial_textrank]"
   ]
  },
  {
   "cell_type": "code",
   "execution_count": 42,
   "metadata": {},
   "outputs": [
    {
     "data": {
      "text/plain": [
       "['Party leader Kemal Kilicdaroglu',\n",
       " 'opposition party leader',\n",
       " 'President Recep Tayyip Erdogan',\n",
       " 'Interior Minister Suleyman Soylu',\n",
       " 'municipal election',\n",
       " 'kurdish rebel',\n",
       " 'mayoral election',\n",
       " 'Republican People',\n",
       " 'Turkey',\n",
       " 'divisive campaign']"
      ]
     },
     "execution_count": 42,
     "metadata": {},
     "output_type": "execute_result"
    }
   ],
   "source": [
    "textrank_words"
   ]
  },
  {
   "cell_type": "code",
   "execution_count": 101,
   "metadata": {},
   "outputs": [
    {
     "data": {
      "text/plain": [
       "array(['Party leader Kemal Kilicdaroglu',\n",
       "       'President Recep Tayyip Erdogan',\n",
       "       'Interior Minister Suleyman Soylu', 'Turkey'], dtype='<U32')"
      ]
     },
     "execution_count": 101,
     "metadata": {},
     "output_type": "execute_result"
    }
   ],
   "source": [
    "get_textrank_entities_only(np.array(textrank_words), trial_entities)"
   ]
  },
  {
   "cell_type": "code",
   "execution_count": null,
   "metadata": {},
   "outputs": [],
   "source": []
  }
 ],
 "metadata": {
  "kernelspec": {
   "display_name": "Python 3",
   "language": "python",
   "name": "python3"
  },
  "language_info": {
   "codemirror_mode": {
    "name": "ipython",
    "version": 3
   },
   "file_extension": ".py",
   "mimetype": "text/x-python",
   "name": "python",
   "nbconvert_exporter": "python",
   "pygments_lexer": "ipython3",
   "version": "3.6.8"
  }
 },
 "nbformat": 4,
 "nbformat_minor": 2
}
