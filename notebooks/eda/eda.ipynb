{
 "cells": [
  {
   "cell_type": "markdown",
   "metadata": {},
   "source": [
    "# EDA\n",
    "\n",
    "---"
   ]
  },
  {
   "cell_type": "code",
   "execution_count": 1,
   "metadata": {},
   "outputs": [],
   "source": [
    "#import dependencies\n",
    "import os\n",
    "import csv\n",
    "import sys\n",
    "sys.path.append('../../')\n",
    "from src import constants\n",
    "import os\n",
    "import pandas as pd\n",
    "import numpy as np\n",
    "from tqdm import tqdm\n",
    "from collections import defaultdict, Counter\n",
    "from pandas_profiling import ProfileReport\n",
    "import seaborn as sns\n",
    "import matplotlib.pyplot as plt\n",
    "%matplotlib inline"
   ]
  },
  {
   "cell_type": "code",
   "execution_count": 2,
   "metadata": {},
   "outputs": [],
   "source": [
    "#data directory path\n",
    "data_directory = constants.CLEAN_DIR\n",
    "output_directory = 'output/'"
   ]
  },
  {
   "cell_type": "code",
   "execution_count": 3,
   "metadata": {},
   "outputs": [
    {
     "name": "stdout",
     "output_type": "stream",
     "text": [
      "Working on article_place.csv\n",
      "Working on article_summary.csv\n",
      "Working on image_person.csv\n",
      "Working on article_person.csv\n",
      "Working on article_event.csv\n",
      "Working on article_person_type.csv\n",
      "Working on article_org.csv\n",
      "Working on article_subject.csv\n",
      "Working on image_org.csv\n",
      "Working on article_person_team.csv\n",
      "Working on image_summary.csv\n",
      "Working on image_ap_category.csv\n",
      "Working on article_org_industry.csv\n",
      "Working on image_subject.csv\n",
      "Working on article_ap_category.csv\n",
      "Working on image_person_team.csv\n",
      "Working on image_org_industry.csv\n",
      "Working on image_person_type.csv\n",
      "Working on image_event.csv\n",
      "Working on image_place.csv\n"
     ]
    }
   ],
   "source": [
    "# #generate pandas profile report for all csvs\n",
    "# for csv_file in os.listdir(path = data_directory):\n",
    "#     if '.csv' in csv_file:\n",
    "#         #track progress\n",
    "#         print(f'Working on {csv_file}')\n",
    "#         #read file into pandas df\n",
    "#         data_frame = pd.read_csv(os.path.join(data_directory, csv_file))\n",
    "#         #generate report for df\n",
    "#         report = ProfileReport(data_frame)\n",
    "#         #save report\n",
    "#         report.to_file(f'{output_directory}/{csv_file[:-4]}_report.html')"
   ]
  },
  {
   "cell_type": "markdown",
   "metadata": {},
   "source": [
    "### Summary Metadata\n",
    "\n",
    "---"
   ]
  },
  {
   "cell_type": "code",
   "execution_count": 3,
   "metadata": {},
   "outputs": [
    {
     "name": "stdout",
     "output_type": "stream",
     "text": [
      "Article: \n",
      "Data shape: (22602, 13)\n",
      "Number of unique articles: 22602\n",
      "Number of languages included: 1 \n",
      "\n",
      "Media Files: \n",
      "Data shape: (78521, 13)\n",
      "Number of unique media files: 78021\n",
      "Type of media files: ['picture']\n",
      "Number of languages included: 2\n"
     ]
    }
   ],
   "source": [
    "#read into pandas dataframe\n",
    "article_summary = pd.read_csv(os.path.join(data_directory, 'article_summary.csv'))\n",
    "media_summary = pd.read_csv(os.path.join(data_directory, 'image_summary.csv'))\n",
    "media_subject = pd.read_csv(os.path.join(data_directory, 'image_subject.csv'))\n",
    "print('Article: ')\n",
    "print(f'Data shape: {article_summary.shape}')\n",
    "print(f'Number of unique articles: {len(article_summary.id.unique())}')\n",
    "print(f'Number of languages included: {len(article_summary.language.unique())} \\n')\n",
    "print('Media Files: ')\n",
    "print(f'Data shape: {media_summary.shape}')\n",
    "print(f'Number of unique media files: {len(media_summary.id.unique())}')\n",
    "print(f'Type of media files: {media_summary.content_type.unique()}')\n",
    "print(f'Number of languages included: {len(media_summary.language.unique())}')"
   ]
  },
  {
   "cell_type": "code",
   "execution_count": 4,
   "metadata": {},
   "outputs": [
    {
     "name": "stdout",
     "output_type": "stream",
     "text": [
      "Article published from 2019-03-01 00:09:03+00:00 to 2019-09-08 13:00:59+00:00\n",
      "Media file published from 2019-02-15 21:48:14+00:00 to 2019-09-30 13:18:50+00:00\n"
     ]
    }
   ],
   "source": [
    "#get publishing datetime\n",
    "article_summary.version_created = pd.to_datetime(article_summary.version_created)\n",
    "media_summary.version_created = pd.to_datetime(media_summary.version_created)\n",
    "\n",
    "print(f'Article published from {article_summary.version_created.min()} to {article_summary.version_created.max()}')\n",
    "print(f'Media file published from {media_summary.version_created.min()} to {media_summary.version_created.max()}')"
   ]
  },
  {
   "cell_type": "markdown",
   "metadata": {},
   "source": [
    "### Tag Metadata\n",
    "\n",
    "---"
   ]
  },
  {
   "cell_type": "code",
   "execution_count": 5,
   "metadata": {},
   "outputs": [
    {
     "name": "stdout",
     "output_type": "stream",
     "text": [
      "article_person\n",
      "Data shape: (57668, 4)\n",
      "Number of unique id: 22602\n",
      "Number of unique tags: 8485\n",
      "\n",
      "image_person\n",
      "Data shape: (85084, 5)\n",
      "Number of unique id: 78021\n",
      "Number of unique tags: 2827\n",
      "\n",
      "article_subject\n",
      "Data shape: (279796, 4)\n",
      "Number of unique id: 22602\n",
      "Number of unique tags: 3129\n",
      "\n",
      "image_subject\n",
      "Data shape: (253127, 5)\n",
      "Number of unique id: 55145\n",
      "Number of unique tags: 2096\n",
      "\n",
      "article_org\n",
      "Data shape: (40512, 4)\n",
      "Number of unique id: 22602\n",
      "Number of unique tags: 1522\n",
      "\n",
      "image_org\n",
      "Data shape: (100390, 5)\n",
      "Number of unique id: 78021\n",
      "Number of unique tags: 1357\n",
      "\n",
      "article_place\n",
      "Data shape: (105632, 4)\n",
      "Number of unique id: 22602\n",
      "Number of unique tags: 1323\n",
      "\n",
      "image_place\n",
      "Data shape: (327092, 5)\n",
      "Number of unique id: 78021\n",
      "Number of unique tags: 1318\n",
      "\n"
     ]
    }
   ],
   "source": [
    "#tags category \n",
    "tags = ['_person', '_subject', '_org', '_place']\n",
    "\n",
    "eda_tags = defaultdict(list)\n",
    "\n",
    "for t in tags:\n",
    "    for content in ['article', 'image']:\n",
    "        file = content+t\n",
    "        data = pd.read_csv(os.path.join(data_directory, file+'.csv'))\n",
    "        print(f'{file}')\n",
    "        print(f'Data shape: {data.shape}')\n",
    "        print(f'Number of unique id: {len(data.id.unique())}')\n",
    "        tag_label = t[1:]+'_tag'\n",
    "        print(f'Number of unique tags: {len(data[tag_label].unique())}')\n",
    "#         try:\n",
    "#             file = file.replace('image', 'media')\n",
    "#         except:\n",
    "#             file = file\n",
    "        eda_tags[file].append(len(data[tag_label].unique()))\n",
    "        print()"
   ]
  },
  {
   "cell_type": "code",
   "execution_count": 6,
   "metadata": {},
   "outputs": [
    {
     "data": {
      "image/png": "[encoded data removed]",
      "text/plain": [
       "<Figure size 720x432 with 1 Axes>"
      ]
     },
     "metadata": {
      "needs_background": "light"
     },
     "output_type": "display_data"
    }
   ],
   "source": [
    "fig, ax = plt.subplots(figsize = (10, 6))\n",
    "ax.bar(range(len(eda_tags)), [x[0] for x in eda_tags.values()],\n",
    "       color = ['steelblue', 'steelblue', 'goldenrod','goldenrod','gray', 'gray', \n",
    "                'forestgreen', 'forestgreen'])\n",
    "ax.set_xticks(range(len(eda_tags)))\n",
    "ax.set_xticklabels([x.replace('_', '\\n') for x in list(eda_tags.keys())], fontsize = 15)\n",
    "ax.set_ylabel('count', fontsize = 15)\n",
    "ax.set_title('Unique Tag Count by Content Type', fontsize = 20)\n",
    "plt.show()"
   ]
  },
  {
   "cell_type": "code",
   "execution_count": 7,
   "metadata": {},
   "outputs": [],
   "source": [
    "fig.savefig(f'{output_directory}unique_tag_dist.jpg')"
   ]
  }
 ],
 "metadata": {
  "kernelspec": {
   "display_name": "Python 3",
   "language": "python",
   "name": "python3"
  },
  "language_info": {
   "codemirror_mode": {
    "name": "ipython",
    "version": 3
   },
   "file_extension": ".py",
   "mimetype": "text/x-python",
   "name": "python",
   "nbconvert_exporter": "python",
   "pygments_lexer": "ipython3",
   "version": "3.6.8"
  }
 },
 "nbformat": 4,
 "nbformat_minor": 2
}
