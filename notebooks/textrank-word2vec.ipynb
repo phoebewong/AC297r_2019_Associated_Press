{
 "cells": [
  {
   "cell_type": "code",
   "execution_count": 1,
   "metadata": {},
   "outputs": [],
   "source": [
    "import gensim.downloader as api\n",
    "import pandas as pd\n",
    "import numpy as np\n",
    "import matplotlib.pyplot as plt\n",
    "import seaborn as sns\n",
    "from tqdm import tqdm\n",
    "import pickle\n",
    "\n",
    "import os\n",
    "import sys\n",
    "import json\n",
    "module_path = os.path.abspath(os.path.join('..'))\n",
    "if module_path not in sys.path:\n",
    "    sys.path.append(module_path)\n",
    "from src import constants\n",
    "\n",
    "#get training path\n",
    "train_dir = constants.TRAIN_DIR\n",
    "clean_dir = constants.CLEAN_DIR\n",
    "art_prefix = constants.Text_Prefix\n",
    "img_prefix = constants.Media_Prefix\n",
    "#tag types\n",
    "tag_types = ['org', 'place', 'subject','person']\n",
    "# article_summary = pd.read_csv(f'{train_dir}/{art_prefix}summary.csv')\n",
    "article_summary = pd.read_csv(f'{constants.CLEAN_DIR}/article_summary.csv')\n",
    "image_summary =  pd.read_csv(f'{train_dir}/{img_prefix}summary.csv')\n",
    "#preview dir\n",
    "preview_dir = f'{constants.DATA_DIR}/preview'"
   ]
  },
  {
   "cell_type": "code",
   "execution_count": 2,
   "metadata": {},
   "outputs": [],
   "source": [
    "%load_ext autoreload\n",
    "%autoreload 2"
   ]
  },
  {
   "cell_type": "code",
   "execution_count": 3,
   "metadata": {
    "scrolled": true
   },
   "outputs": [
    {
     "name": "stderr",
     "output_type": "stream",
     "text": [
      "Building prefix dict from /Users/pwong/anaconda3/lib/python3.6/site-packages/synonyms/data/vocab.txt ...\n",
      "WARNING: Logging before flag parsing goes to stderr.\n",
      "I1202 15:56:55.021873 4645250496 __init__.py:111] Building prefix dict from /Users/pwong/anaconda3/lib/python3.6/site-packages/synonyms/data/vocab.txt ...\n",
      "Loading model from cache /var/folders/wd/fnzsxwb5585gt0tyhx_7znnh0000gn/T/jieba.ub1bc640de0fe7bfc05777e6fa774082c.cache\n",
      "I1202 15:56:55.037290 4645250496 __init__.py:131] Loading model from cache /var/folders/wd/fnzsxwb5585gt0tyhx_7znnh0000gn/T/jieba.ub1bc640de0fe7bfc05777e6fa774082c.cache\n"
     ]
    },
    {
     "name": "stdout",
     "output_type": "stream",
     "text": [
      ">> Synonyms load wordseg dict [/Users/pwong/anaconda3/lib/python3.6/site-packages/synonyms/data/vocab.txt] ... \n"
     ]
    },
    {
     "name": "stderr",
     "output_type": "stream",
     "text": [
      "Loading model cost 1.723 seconds.\n",
      "I1202 15:56:56.756875 4645250496 __init__.py:163] Loading model cost 1.723 seconds.\n",
      "Prefix dict has been built succesfully.\n",
      "I1202 15:56:56.757810 4645250496 __init__.py:164] Prefix dict has been built succesfully.\n"
     ]
    },
    {
     "name": "stdout",
     "output_type": "stream",
     "text": [
      ">> Synonyms on loading stopwords [/Users/pwong/anaconda3/lib/python3.6/site-packages/synonyms/data/stopwords.txt] ...\n",
      ">> Synonyms on loading vectors [/Users/pwong/anaconda3/lib/python3.6/site-packages/synonyms/data/words.vector] ...\n"
     ]
    },
    {
     "name": "stderr",
     "output_type": "stream",
     "text": [
      "/Users/pwong/anaconda3/lib/python3.6/site-packages/smart_open/smart_open_lib.py:402: UserWarning: This function is deprecated, use smart_open.open instead. See the migration notes for details: https://github.com/RaRe-Technologies/smart_open/blob/master/README.rst#migrating-to-the-new-open-function\n",
      "  'See the migration notes for details: %s' % _MIGRATION_NOTES_URL\n"
     ]
    }
   ],
   "source": [
    "from src.nlp_util.easynlp import easynlp"
   ]
  },
  {
   "cell_type": "code",
   "execution_count": 4,
   "metadata": {
    "scrolled": true
   },
   "outputs": [
    {
     "name": "stdout",
     "output_type": "stream",
     "text": [
      "Collecting jieba\n",
      "  Using cached https://files.pythonhosted.org/packages/71/46/c6f9179f73b818d5827202ad1c4a94e371a29473b7f043b736b4dab6b8cd/jieba-0.39.zip\n",
      "Building wheels for collected packages: jieba\n",
      "  Building wheel for jieba (setup.py) ... \u001b[?25ldone\n",
      "\u001b[?25h  Stored in directory: /Users/pwong/Library/Caches/pip/wheels/c9/c7/63/a9ec0322ccc7c365fd51e475942a82395807186e94f0522243\n",
      "Successfully built jieba\n",
      "Installing collected packages: jieba\n",
      "Successfully installed jieba-0.39\n",
      "\u001b[33mWARNING: You are using pip version 19.1.1, however version 19.3.1 is available.\n",
      "You should consider upgrading via the 'pip install --upgrade pip' command.\u001b[0m\n"
     ]
    }
   ],
   "source": [
    "!pip install jieba"
   ]
  },
  {
   "cell_type": "code",
   "execution_count": 6,
   "metadata": {
    "collapsed": true
   },
   "outputs": [
    {
     "name": "stdout",
     "output_type": "stream",
     "text": [
      "Collecting synonyms\n",
      "  Using cached https://files.pythonhosted.org/packages/3e/47/065b8f34aad7bbf34447df72e4188a5ac6ae7106af5e2f91f5a0ed33f4e0/synonyms-3.10.2.tar.gz\n",
      "Requirement already satisfied: six>=1.11.0 in /Users/pwong/anaconda3/lib/python3.6/site-packages (from synonyms) (1.11.0)\n",
      "Requirement already satisfied: numpy>=1.13.1 in /Users/pwong/anaconda3/lib/python3.6/site-packages (from synonyms) (1.17.2)\n",
      "Requirement already satisfied: scipy>=1.0.0 in /Users/pwong/anaconda3/lib/python3.6/site-packages (from synonyms) (1.1.0)\n",
      "Requirement already satisfied: scikit-learn>=0.19.1 in /Users/pwong/anaconda3/lib/python3.6/site-packages (from synonyms) (0.20.2)\n",
      "Requirement already satisfied: absl-py>=0.4 in /Users/pwong/anaconda3/lib/python3.6/site-packages (from synonyms) (0.6.1)\n",
      "Building wheels for collected packages: synonyms\n",
      "  Building wheel for synonyms (setup.py) ... \u001b[?25ldone\n",
      "\u001b[?25h  Stored in directory: /Users/pwong/Library/Caches/pip/wheels/35/34/8c/195ac92995b84be9e93dcc5ddbea940a1545bbca9a919e93b5\n",
      "Successfully built synonyms\n",
      "Installing collected packages: synonyms\n",
      "Successfully installed synonyms-3.10.2\n",
      "\u001b[33mWARNING: You are using pip version 19.1.1, however version 19.3.1 is available.\n",
      "You should consider upgrading via the 'pip install --upgrade pip' command.\u001b[0m\n"
     ]
    }
   ],
   "source": [
    "!pip install synonyms"
   ]
  },
  {
   "cell_type": "code",
   "execution_count": 17,
   "metadata": {
    "scrolled": true
   },
   "outputs": [
    {
     "data": {
      "text/html": [
       "<div>\n",
       "<style scoped>\n",
       "    .dataframe tbody tr th:only-of-type {\n",
       "        vertical-align: middle;\n",
       "    }\n",
       "\n",
       "    .dataframe tbody tr th {\n",
       "        vertical-align: top;\n",
       "    }\n",
       "\n",
       "    .dataframe thead th {\n",
       "        text-align: right;\n",
       "    }\n",
       "</style>\n",
       "<table border=\"1\" class=\"dataframe\">\n",
       "  <thead>\n",
       "    <tr style=\"text-align: right;\">\n",
       "      <th></th>\n",
       "      <th>id</th>\n",
       "      <th>version</th>\n",
       "      <th>version_created</th>\n",
       "      <th>content_type</th>\n",
       "      <th>language</th>\n",
       "      <th>city</th>\n",
       "      <th>country</th>\n",
       "      <th>long_lat</th>\n",
       "      <th>title</th>\n",
       "      <th>headline</th>\n",
       "      <th>headline_extended</th>\n",
       "      <th>summary</th>\n",
       "      <th>full_text</th>\n",
       "    </tr>\n",
       "  </thead>\n",
       "  <tbody>\n",
       "    <tr>\n",
       "      <th>0</th>\n",
       "      <td>964285bee74e430cb22441e59a968e76</td>\n",
       "      <td>1</td>\n",
       "      <td>2019-06-29T18:38:39Z</td>\n",
       "      <td>text</td>\n",
       "      <td>en</td>\n",
       "      <td>Avon</td>\n",
       "      <td>United States</td>\n",
       "      <td>[-77.73411, 42.89547]</td>\n",
       "      <td>NY--911 Call-Probation</td>\n",
       "      <td>Sheriff: NY man calls 911 to say he's violatin...</td>\n",
       "      <td>Authorities say a western New York man has bee...</td>\n",
       "      <td>Authorities say a western New York man has bee...</td>\n",
       "      <td>AVON, N.Y. (AP) — Authorities say a western Ne...</td>\n",
       "    </tr>\n",
       "    <tr>\n",
       "      <th>1</th>\n",
       "      <td>5485474faec244b0881838c139b4ef10</td>\n",
       "      <td>5</td>\n",
       "      <td>2019-04-18T22:22:45Z</td>\n",
       "      <td>text</td>\n",
       "      <td>en</td>\n",
       "      <td>New York</td>\n",
       "      <td>United States</td>\n",
       "      <td>[-74.00597, 40.71427]</td>\n",
       "      <td>FBN--NFL Schedule</td>\n",
       "      <td>Champion Patriots open vs. Steelers; 5 interna...</td>\n",
       "      <td>The NFL's 100th season will begin with its mos...</td>\n",
       "      <td>The NFL's 100th season will begin with its mos...</td>\n",
       "      <td>NEW YORK (AP) — The NFL's 100th season will be...</td>\n",
       "    </tr>\n",
       "    <tr>\n",
       "      <th>2</th>\n",
       "      <td>6aff14aef2ff4a10a4f27f4ca879ad9e</td>\n",
       "      <td>1</td>\n",
       "      <td>2019-03-12T05:00:05Z</td>\n",
       "      <td>text</td>\n",
       "      <td>en</td>\n",
       "      <td>Tokyo</td>\n",
       "      <td>Japan</td>\n",
       "      <td>[139.69171, 35.6895]</td>\n",
       "      <td>OLY--Tokyo-500 Days</td>\n",
       "      <td>Tick tock, tick tock: Tokyo Olympics clock hit...</td>\n",
       "      <td>The Tokyo Olympic clock has hit 500 days to go</td>\n",
       "      <td>The Tokyo Olympic clock has hit 500 days to go...</td>\n",
       "      <td>TOKYO (AP) — Tick tock, tick tock. The Tokyo O...</td>\n",
       "    </tr>\n",
       "    <tr>\n",
       "      <th>3</th>\n",
       "      <td>3a29e90a364a4ce7bb294286a8647535</td>\n",
       "      <td>1</td>\n",
       "      <td>2019-08-07T01:56:18Z</td>\n",
       "      <td>text</td>\n",
       "      <td>en</td>\n",
       "      <td>Inglewood</td>\n",
       "      <td>United States</td>\n",
       "      <td>[-118.35313, 33.96168]</td>\n",
       "      <td>APFN-US--Inglewood Stadium-American Airlines</td>\n",
       "      <td>American Airlines first sponsor for Rams, Char...</td>\n",
       "      <td>The new stadium at Hollywood Park being built ...</td>\n",
       "      <td>The new stadium at Hollywood Park being built ...</td>\n",
       "      <td>INGLEWOOD, Calif. (AP) — The new stadium at Ho...</td>\n",
       "    </tr>\n",
       "    <tr>\n",
       "      <th>4</th>\n",
       "      <td>bbabfcdbb53b4804adaffb2933bfc207</td>\n",
       "      <td>1</td>\n",
       "      <td>2019-05-07T13:59:07Z</td>\n",
       "      <td>text</td>\n",
       "      <td>en</td>\n",
       "      <td>Tirana</td>\n",
       "      <td>Albania</td>\n",
       "      <td>[19.81889, 41.3275]</td>\n",
       "      <td>EU--Albania-Lions</td>\n",
       "      <td>Off to a new life: 3 Albanian lions sent to Du...</td>\n",
       "      <td>Three lions from Tirana Zoo in Albania have be...</td>\n",
       "      <td>Three formerly hungry lions being housed at Ti...</td>\n",
       "      <td>TIRANA, Albania (AP) — Three formerly hungry l...</td>\n",
       "    </tr>\n",
       "  </tbody>\n",
       "</table>\n",
       "</div>"
      ],
      "text/plain": [
       "                                 id  version       version_created  \\\n",
       "0  964285bee74e430cb22441e59a968e76        1  2019-06-29T18:38:39Z   \n",
       "1  5485474faec244b0881838c139b4ef10        5  2019-04-18T22:22:45Z   \n",
       "2  6aff14aef2ff4a10a4f27f4ca879ad9e        1  2019-03-12T05:00:05Z   \n",
       "3  3a29e90a364a4ce7bb294286a8647535        1  2019-08-07T01:56:18Z   \n",
       "4  bbabfcdbb53b4804adaffb2933bfc207        1  2019-05-07T13:59:07Z   \n",
       "\n",
       "  content_type language       city        country                long_lat  \\\n",
       "0         text       en       Avon  United States   [-77.73411, 42.89547]   \n",
       "1         text       en   New York  United States   [-74.00597, 40.71427]   \n",
       "2         text       en      Tokyo          Japan    [139.69171, 35.6895]   \n",
       "3         text       en  Inglewood  United States  [-118.35313, 33.96168]   \n",
       "4         text       en     Tirana        Albania     [19.81889, 41.3275]   \n",
       "\n",
       "                                          title  \\\n",
       "0                        NY--911 Call-Probation   \n",
       "1                             FBN--NFL Schedule   \n",
       "2                           OLY--Tokyo-500 Days   \n",
       "3  APFN-US--Inglewood Stadium-American Airlines   \n",
       "4                             EU--Albania-Lions   \n",
       "\n",
       "                                            headline  \\\n",
       "0  Sheriff: NY man calls 911 to say he's violatin...   \n",
       "1  Champion Patriots open vs. Steelers; 5 interna...   \n",
       "2  Tick tock, tick tock: Tokyo Olympics clock hit...   \n",
       "3  American Airlines first sponsor for Rams, Char...   \n",
       "4  Off to a new life: 3 Albanian lions sent to Du...   \n",
       "\n",
       "                                   headline_extended  \\\n",
       "0  Authorities say a western New York man has bee...   \n",
       "1  The NFL's 100th season will begin with its mos...   \n",
       "2     The Tokyo Olympic clock has hit 500 days to go   \n",
       "3  The new stadium at Hollywood Park being built ...   \n",
       "4  Three lions from Tirana Zoo in Albania have be...   \n",
       "\n",
       "                                             summary  \\\n",
       "0  Authorities say a western New York man has bee...   \n",
       "1  The NFL's 100th season will begin with its mos...   \n",
       "2  The Tokyo Olympic clock has hit 500 days to go...   \n",
       "3  The new stadium at Hollywood Park being built ...   \n",
       "4  Three formerly hungry lions being housed at Ti...   \n",
       "\n",
       "                                           full_text  \n",
       "0  AVON, N.Y. (AP) — Authorities say a western Ne...  \n",
       "1  NEW YORK (AP) — The NFL's 100th season will be...  \n",
       "2  TOKYO (AP) — Tick tock, tick tock. The Tokyo O...  \n",
       "3  INGLEWOOD, Calif. (AP) — The new stadium at Ho...  \n",
       "4  TIRANA, Albania (AP) — Three formerly hungry l...  "
      ]
     },
     "execution_count": 17,
     "metadata": {},
     "output_type": "execute_result"
    }
   ],
   "source": [
    "article_summary.head()"
   ]
  },
  {
   "cell_type": "code",
   "execution_count": 4,
   "metadata": {},
   "outputs": [],
   "source": [
    "import gensim.downloader as api\n",
    "word_vectors = api.load(\"glove-wiki-gigaword-100\")  # load pre-trained word-vectors from gensim-data\n",
    "# >>>\n",
    "# >>> result = word_vectors.most_similar(positive=['woman', 'king'], negative=['man'])\n",
    "# >>> print(\"{}: {:.4f}\".format(*result[0]))\n",
    "# queen: 0.7699\n",
    "# >>>\n",
    "# >>> result = word_vectors.most_similar_cosmul(positive=['woman', 'king'], negative=['man'])\n",
    "# >>> print(\"{}: {:.4f}\".format(*result[0]))\n",
    "# queen: 0.8965\n",
    "# >>>\n",
    "# >>> print(word_vectors.doesnt_match(\"breakfast cereal dinner lunch\".split()))\n",
    "# cereal\n",
    "# >>>\n",
    "similarity = word_vectors.similarity('woman', 'man')"
   ]
  },
  {
   "cell_type": "code",
   "execution_count": 5,
   "metadata": {},
   "outputs": [
    {
     "data": {
      "text/plain": [
       "0.8323495"
      ]
     },
     "execution_count": 5,
     "metadata": {},
     "output_type": "execute_result"
    }
   ],
   "source": [
    "similarity"
   ]
  },
  {
   "cell_type": "code",
   "execution_count": 9,
   "metadata": {
    "scrolled": true
   },
   "outputs": [
    {
     "data": {
      "text/plain": [
       "'WASHINGTON (AP) — Democrats launched\\xa0a sweeping new probe of President Donald Trump, an aggressive investigation that threatens to shadow the president through the 2020 election season with potentially damaging inquiries into his White House, campaign and family businesses.House Judiciary Committee Chairman Jerrold Nadler said Monday his panel was beginning the probe into possible obstruction of justice, corruption and abuse of power and is sending document requests to 81 people linked to the president and his associates.The broad investigation could be setting the stage for an impeachment effort, although Democratic leaders have pledged to investigate all avenues and review special counsel Robert Mueller\\'s upcoming report before trying any drastic action.Trump denounced the probe Tuesday, tweeting that Nadler and other Democrats \"have gone stone cold CRAZY. 81 letter sent to innocent people to harass them. They won\\'t get ANYTHING done for our Country!\"Nadler said the document requests, with responses to most due by March 18, are a way to \"begin building the public record.\"\"Over the last several years, President Trump has evaded accountability for his near-daily attacks on our basic legal, ethical, and constitutional rules and norms,\" said Nadler, D-N.Y. \"Investigating these threats to the rule of law is an obligation of Congress and a core function of the House Judiciary Committee.\"White House press secretary Sarah Sanders called the House probe \"a disgraceful and abusive investigation into tired, false allegations.\"In a statement Monday night, Sanders said: \"Chairman Nadler and his fellow Democrats have embarked on this fishing expedition because they are terrified that their two-year false narrative of \\'Russia collusion\\' is crumbling. Their intimidation and abuse of American citizens is shameful.\"Separate congressional probes are already swirling around the president, including an effort announced Monday by three other House Democratic chairmen to obtain information about private conversations between him and Russian President Vladimir Putin.In a letter to the White House and State Department, the House intelligence, Foreign Affairs and Oversight and Reform panels sent broad requests for details about Trump and Putin\\'s private meetings by phone and in person. In addition to document requests, the committees are asking to interview interpreters who sat in on meetings, including a one-on-one session in Helsinki last summer.The State Department pledged to \"work cooperatively with the committees.\"The new probes signal that now that Democrats hold a majority in the House, Trump\\'s legal and political peril is nowhere near over, even as the special counsel\\'s Russia investigation winds down.They are also an indication of the Democrats\\' current strategy — to flood the administration with oversight requests, keeping Trump and his associates on trial publicly while also playing a long game when it comes to possible impeachment. While some more liberal members of the Democratic caucus would like to see Trump impeached now, Democratic leaders have been more cautious.Trump told reporters after Nadler\\'s probe was announced that \"I cooperate all the time with everybody.\"He added: \"You know, the beautiful thing? No collusion. It\\'s all a hoax.\"Mueller is investigating Russian intervention in the 2016 election and whether Trump\\'s campaign conspired with Russia. But the House probes go far beyond collusion. The House intelligence panel has announced a separate probe not only into the Russian interference but also Trump\\'s foreign financial interests. The Oversight and Reform Committee has launched multiple investigations into all facets of the administration.The 81 names and entities on the Judiciary Committee\\'s list touch all parts of Trump\\'s life — the White House, his businesses, his campaign and the committee that oversaw the transition from campaign to presidency. There are also people connected to Russian interference in the 2016 campaign, including participants in a meeting at Trump Tower with a Russian lawyer before the election.The committee is also asking the FBI, the Justice Department and others for documents related to possible pardons for Trump\\'s former personal lawyer, Michael Cohen, former national security adviser Michael Flynn and former Trump campaign chairman Paul Manafort. All three have been charged in special counsel Mueller\\'s investigation.In a request sent to the White House, the committee asks for information surrounding former FBI Director James Comey\\'s termination, communications with Justice Department officials, the Trump Tower meeting and multiple other matters.The panel\\'s list includes two of the president\\'s sons, Donald Trump Jr. and Eric Trump, and many of his current and former close advisers, including Steve Bannon, longtime spokeswoman Hope Hicks, former Press Secretary Sean Spicer and former White House Counsel Don McGahn.The letters to Hicks and Spicer ask them to turn over any work diaries, journals or \"a description of daily events related to your employment\" by Trump. The committee asked McGahn for documents related to any discussion involving Trump regarding the possibility of firing Mueller around June of 2017 \"or any conversation in which President Trump stated, in words or substance, that he wanted the Mueller investigation shut down, restrained or otherwise limited in or around December 2017.\"The committee seeks from Cohen, Trump\\'s former personal lawyer who called Trump a \"con man\" and a \"cheat\" in congressional testimony last week, \"any audio or video recordings\" of conversations with Trump or conversations about his presidential campaign.The list of document requests also includes the National Rifle Association and Trump\\'s embattled charitable foundation, which he is shutting down after agreeing to a court-supervised process.Nadler said in most of the letters that he was limiting the requests to documents that had already been provided to other investigators, an attempt to receive as much as possible in the two-week timeline. The committee said there might be additional requests.The panel expects some people to produce right away, and others may eventually face subpoenas, according to a person familiar with the investigation. The person declined to be named to discuss the committee\\'s internal process.The top Republican on the committee, Georgia Rep. Doug Collins, said Nadler was \"recklessly prejudging the president for obstruction\" and pursuing evidence to back up his conclusion.___Associated Press writers Chad Day, Padmananda Rama, Michael Balsamo, Deb Riechmann, Matthew Lee and Jill Colvin contributed to this report.___Read the document requests: http://apne.ws/87a9kpP___Follow all of AP\\'s Trump Investigations coverage at https://apnews.com/TrumpInvestigations'"
      ]
     },
     "execution_count": 9,
     "metadata": {},
     "output_type": "execute_result"
    }
   ],
   "source": [
    "raw_text = article_summary[article_summary.headline == 'House panel opens sweeping probe of Trump, his associates'].full_text.values[0]\n",
    "raw_text"
   ]
  },
  {
   "cell_type": "code",
   "execution_count": 7,
   "metadata": {},
   "outputs": [
    {
     "data": {
      "text/plain": [
       "'WASHINGTON (AP) — Democrats launched\\xa0a sweeping new probe of President Donald Trump, an aggressive investigation that threatens to shadow the president through the 2020 election season with potentially damaging inquiries into his White House, campaign and family businesses.House Judiciary Committee Chairman Jerrold Nadler said Monday his panel was beginning the probe into possible obstruction of justice, corruption and abuse of power and is sending document requests to 81 people linked to the president and his associates.The broad investigation could be setting the stage for an impeachment effort, although Democratic leaders have pledged to investigate all avenues and review special counsel Robert Mueller\\'s upcoming report before trying any drastic action.Trump denounced the probe Tuesday, tweeting that Nadler and other Democrats \"have gone stone cold CRAZY. 81 letter sent to innocent people to harass them. They won\\'t get ANYTHING done for our Country!\"Nadler said the document requests, with responses to most due by March 18, are a way to \"begin building the public record.\"\"Over the last several years, President Trump has evaded accountability for his near-daily attacks on our basic legal, ethical, and constitutional rules and norms,\" said Nadler, D-N.Y. \"Investigating these threats to the rule of law is an obligation of Congress and a core function of the House Judiciary Committee.\"White House press secretary Sarah Sanders called the House probe \"a disgraceful and abusive investigation into tired, false allegations.\"In a statement Monday night, Sanders said: \"Chairman Nadler and his fellow Democrats have embarked on this fishing expedition because they are terrified that their two-year false narrative of \\'Russia collusion\\' is crumbling. Their intimidation and abuse of American citizens is shameful.\"Separate congressional probes are already swirling around the president, including an effort announced Monday by three other House Democratic chairmen to obtain information about private conversations between him and Russian President Vladimir Putin.In a letter to the White House and State Department, the House intelligence, Foreign Affairs and Oversight and Reform panels sent broad requests for details about Trump and Putin\\'s private meetings by phone and in person. In addition to document requests, the committees are asking to interview interpreters who sat in on meetings, including a one-on-one session in Helsinki last summer.The State Department pledged to \"work cooperatively with the committees.\"The new probes signal that now that Democrats hold a majority in the House, Trump\\'s legal and political peril is nowhere near over, even as the special counsel\\'s Russia investigation winds down.They are also an indication of the Democrats\\' current strategy — to flood the administration with oversight requests, keeping Trump and his associates on trial publicly while also playing a long game when it comes to possible impeachment. While some more liberal members of the Democratic caucus would like to see Trump impeached now, Democratic leaders have been more cautious.Trump told reporters after Nadler\\'s probe was announced that \"I cooperate all the time with everybody.\"He added: \"You know, the beautiful thing? No collusion. It\\'s all a hoax.\"Mueller is investigating Russian intervention in the 2016 election and whether Trump\\'s campaign conspired with Russia. But the House probes go far beyond collusion. The House intelligence panel has announced a separate probe not only into the Russian interference but also Trump\\'s foreign financial interests. The Oversight and Reform Committee has launched multiple investigations into all facets of the administration.The 81 names and entities on the Judiciary Committee\\'s list touch all parts of Trump\\'s life — the White House, his businesses, his campaign and the committee that oversaw the transition from campaign to presidency. There are also people connected to Russian interference in the 2016 campaign, including participants in a meeting at Trump Tower with a Russian lawyer before the election.The committee is also asking the FBI, the Justice Department and others for documents related to possible pardons for Trump\\'s former personal lawyer, Michael Cohen, former national security adviser Michael Flynn and former Trump campaign chairman Paul Manafort. All three have been charged in special counsel Mueller\\'s investigation.In a request sent to the White House, the committee asks for information surrounding former FBI Director James Comey\\'s termination, communications with Justice Department officials, the Trump Tower meeting and multiple other matters.The panel\\'s list includes two of the president\\'s sons, Donald Trump Jr. and Eric Trump, and many of his current and former close advisers, including Steve Bannon, longtime spokeswoman Hope Hicks, former Press Secretary Sean Spicer and former White House Counsel Don McGahn.The letters to Hicks and Spicer ask them to turn over any work diaries, journals or \"a description of daily events related to your employment\" by Trump. The committee asked McGahn for documents related to any discussion involving Trump regarding the possibility of firing Mueller around June of 2017 \"or any conversation in which President Trump stated, in words or substance, that he wanted the Mueller investigation shut down, restrained or otherwise limited in or around December 2017.\"The committee seeks from Cohen, Trump\\'s former personal lawyer who called Trump a \"con man\" and a \"cheat\" in congressional testimony last week, \"any audio or video recordings\" of conversations with Trump or conversations about his presidential campaign.The list of document requests also includes the National Rifle Association and Trump\\'s embattled charitable foundation, which he is shutting down after agreeing to a court-supervised process.Nadler said in most of the letters that he was limiting the requests to documents that had already been provided to other investigators, an attempt to receive as much as possible in the two-week timeline. The committee said there might be additional requests.The panel expects some people to produce right away, and others may eventually face subpoenas, according to a person familiar with the investigation. The person declined to be named to discuss the committee\\'s internal process.The top Republican on the committee, Georgia Rep. Doug Collins, said Nadler was \"recklessly prejudging the president for obstruction\" and pursuing evidence to back up his conclusion.___Associated Press writers Chad Day, Padmananda Rama, Michael Balsamo, Deb Riechmann, Matthew Lee and Jill Colvin contributed to this report.___Read the document requests: http://apne.ws/87a9kpP___Follow all of AP\\'s Trump Investigations coverage at https://apnews.com/TrumpInvestigations'"
      ]
     },
     "execution_count": 7,
     "metadata": {},
     "output_type": "execute_result"
    }
   ],
   "source": [
    "raw_text"
   ]
  },
  {
   "cell_type": "code",
   "execution_count": 10,
   "metadata": {},
   "outputs": [
    {
     "name": "stdout",
     "output_type": "stream",
     "text": [
      "filter_all_list: [[], [], [], [], [], [], [], [], [], [], [], [], [], [], [], [], [], [], [], [], [], [], [], [], [], [], [], [], [], [], [], [], [], [], [], [], [], [], [], [], [], [], [], [], [], [], [], [], []]\n",
      "[]\n"
     ]
    }
   ],
   "source": [
    "# from easynlp import easynlp\n",
    "# 获取排序的关键词排序结果写入文件\n",
    "sorted_words = easynlp.get_keyword(raw_text)\n",
    "print(sorted_words)"
   ]
  },
  {
   "cell_type": "code",
   "execution_count": null,
   "metadata": {},
   "outputs": [],
   "source": []
  }
 ],
 "metadata": {
  "kernelspec": {
   "display_name": "Python 3",
   "language": "python",
   "name": "python3"
  },
  "language_info": {
   "codemirror_mode": {
    "name": "ipython",
    "version": 3
   },
   "file_extension": ".py",
   "mimetype": "text/x-python",
   "name": "python",
   "nbconvert_exporter": "python",
   "pygments_lexer": "ipython3",
   "version": "3.6.8"
  }
 },
 "nbformat": 4,
 "nbformat_minor": 2
}
