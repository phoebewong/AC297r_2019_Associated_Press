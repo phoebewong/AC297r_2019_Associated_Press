{
 "cells": [
  {
   "cell_type": "code",
   "execution_count": 1,
   "metadata": {},
   "outputs": [],
   "source": [
    "import pandas as pd\n",
    "import numpy as np\n",
    "\n",
    "# Preprocessing\n",
    "from sklearn.preprocessing import LabelEncoder\n",
    "from sklearn.feature_extraction.text import TfidfVectorizer\n",
    "from sklearn.decomposition import TruncatedSVD\n",
    "\n",
    "# Modeling\n",
    "from sklearn.linear_model import LogisticRegression\n",
    "from sklearn.naive_bayes import MultinomialNB"
   ]
  },
  {
   "cell_type": "markdown",
   "metadata": {},
   "source": [
    "## Preprocessing\n",
    "#### Data Cleaning and Joining Tables"
   ]
  },
  {
   "cell_type": "code",
   "execution_count": 2,
   "metadata": {},
   "outputs": [],
   "source": [
    "# Loading in the data\n",
    "article_summary = pd.read_csv('../data/clean_data/article_summary.csv')\n",
    "image_df = pd.read_csv('../data/clean_data/image_summary.csv')"
   ]
  },
  {
   "cell_type": "code",
   "execution_count": 3,
   "metadata": {},
   "outputs": [
    {
     "name": "stdout",
     "output_type": "stream",
     "text": [
      "(22602, 2)\n"
     ]
    },
    {
     "data": {
      "text/html": [
       "<div>\n",
       "<style scoped>\n",
       "    .dataframe tbody tr th:only-of-type {\n",
       "        vertical-align: middle;\n",
       "    }\n",
       "\n",
       "    .dataframe tbody tr th {\n",
       "        vertical-align: top;\n",
       "    }\n",
       "\n",
       "    .dataframe thead th {\n",
       "        text-align: right;\n",
       "    }\n",
       "</style>\n",
       "<table border=\"1\" class=\"dataframe\">\n",
       "  <thead>\n",
       "    <tr style=\"text-align: right;\">\n",
       "      <th></th>\n",
       "      <th>article_id</th>\n",
       "      <th>headline</th>\n",
       "    </tr>\n",
       "  </thead>\n",
       "  <tbody>\n",
       "    <tr>\n",
       "      <th>0</th>\n",
       "      <td>964285bee74e430cb22441e59a968e76</td>\n",
       "      <td>Sheriff: NY man calls 911 to say he's violatin...</td>\n",
       "    </tr>\n",
       "    <tr>\n",
       "      <th>1</th>\n",
       "      <td>5485474faec244b0881838c139b4ef10</td>\n",
       "      <td>Champion Patriots open vs. Steelers; 5 interna...</td>\n",
       "    </tr>\n",
       "    <tr>\n",
       "      <th>2</th>\n",
       "      <td>6aff14aef2ff4a10a4f27f4ca879ad9e</td>\n",
       "      <td>Tick tock, tick tock: Tokyo Olympics clock hit...</td>\n",
       "    </tr>\n",
       "    <tr>\n",
       "      <th>3</th>\n",
       "      <td>3a29e90a364a4ce7bb294286a8647535</td>\n",
       "      <td>American Airlines first sponsor for Rams, Char...</td>\n",
       "    </tr>\n",
       "    <tr>\n",
       "      <th>4</th>\n",
       "      <td>bbabfcdbb53b4804adaffb2933bfc207</td>\n",
       "      <td>Off to a new life: 3 Albanian lions sent to Du...</td>\n",
       "    </tr>\n",
       "  </tbody>\n",
       "</table>\n",
       "</div>"
      ],
      "text/plain": [
       "                         article_id  \\\n",
       "0  964285bee74e430cb22441e59a968e76   \n",
       "1  5485474faec244b0881838c139b4ef10   \n",
       "2  6aff14aef2ff4a10a4f27f4ca879ad9e   \n",
       "3  3a29e90a364a4ce7bb294286a8647535   \n",
       "4  bbabfcdbb53b4804adaffb2933bfc207   \n",
       "\n",
       "                                            headline  \n",
       "0  Sheriff: NY man calls 911 to say he's violatin...  \n",
       "1  Champion Patriots open vs. Steelers; 5 interna...  \n",
       "2  Tick tock, tick tock: Tokyo Olympics clock hit...  \n",
       "3  American Airlines first sponsor for Rams, Char...  \n",
       "4  Off to a new life: 3 Albanian lions sent to Du...  "
      ]
     },
     "execution_count": 3,
     "metadata": {},
     "output_type": "execute_result"
    }
   ],
   "source": [
    "# Article dataframe\n",
    "small_df = article_summary[['id', 'headline']]\n",
    "small_df.columns = ['article_id', 'headline']\n",
    "print(small_df.shape)\n",
    "small_df.head()"
   ]
  },
  {
   "cell_type": "code",
   "execution_count": 4,
   "metadata": {},
   "outputs": [
    {
     "name": "stdout",
     "output_type": "stream",
     "text": [
      "(78521, 2)\n",
      "(78521, 2)\n"
     ]
    },
    {
     "data": {
      "text/html": [
       "<div>\n",
       "<style scoped>\n",
       "    .dataframe tbody tr th:only-of-type {\n",
       "        vertical-align: middle;\n",
       "    }\n",
       "\n",
       "    .dataframe tbody tr th {\n",
       "        vertical-align: top;\n",
       "    }\n",
       "\n",
       "    .dataframe thead th {\n",
       "        text-align: right;\n",
       "    }\n",
       "</style>\n",
       "<table border=\"1\" class=\"dataframe\">\n",
       "  <thead>\n",
       "    <tr style=\"text-align: right;\">\n",
       "      <th></th>\n",
       "      <th>img_id</th>\n",
       "      <th>article_id</th>\n",
       "    </tr>\n",
       "  </thead>\n",
       "  <tbody>\n",
       "    <tr>\n",
       "      <th>0</th>\n",
       "      <td>0002c8b6322446a8a9b8f8abaccb4430</td>\n",
       "      <td>6932c6d6086543c4919b85286687e7f1</td>\n",
       "    </tr>\n",
       "    <tr>\n",
       "      <th>1</th>\n",
       "      <td>00036662b297400ca0c0819173d61efd</td>\n",
       "      <td>6a3784541f984889ac98770271a62c50</td>\n",
       "    </tr>\n",
       "    <tr>\n",
       "      <th>2</th>\n",
       "      <td>0004a620b93b4d55addfd4eba8ad79df</td>\n",
       "      <td>80bfa84a31cb449cb5a60e1a24d7f8a7</td>\n",
       "    </tr>\n",
       "    <tr>\n",
       "      <th>3</th>\n",
       "      <td>0006323cab994ddd9c0824d14c2146fd</td>\n",
       "      <td>bcb294c8c35a464798207c7e96d8d74e</td>\n",
       "    </tr>\n",
       "    <tr>\n",
       "      <th>4</th>\n",
       "      <td>00081aa6f45c467c8b44f7806412dbe5</td>\n",
       "      <td>63ad4a991b8f4a63ac05ffd8ccf1f97d</td>\n",
       "    </tr>\n",
       "  </tbody>\n",
       "</table>\n",
       "</div>"
      ],
      "text/plain": [
       "                             img_id                        article_id\n",
       "0  0002c8b6322446a8a9b8f8abaccb4430  6932c6d6086543c4919b85286687e7f1\n",
       "1  00036662b297400ca0c0819173d61efd  6a3784541f984889ac98770271a62c50\n",
       "2  0004a620b93b4d55addfd4eba8ad79df  80bfa84a31cb449cb5a60e1a24d7f8a7\n",
       "3  0006323cab994ddd9c0824d14c2146fd  bcb294c8c35a464798207c7e96d8d74e\n",
       "4  00081aa6f45c467c8b44f7806412dbe5  63ad4a991b8f4a63ac05ffd8ccf1f97d"
      ]
     },
     "execution_count": 4,
     "metadata": {},
     "output_type": "execute_result"
    }
   ],
   "source": [
    "# Image dataframe\n",
    "image_df = image_df[['id', 'article_idx']]\n",
    "print(image_df.shape)\n",
    "image_df.columns = ['img_id', 'article_id']\n",
    "image_df.head()\n",
    "\n",
    "# Getting rid of duplicates\n",
    "image_df = pd.DataFrame(image_df.groupby('img_id').agg('max')).reset_index()\n",
    "print(image_df.shape)\n",
    "image_df.head()"
   ]
  },
  {
   "cell_type": "code",
   "execution_count": 5,
   "metadata": {},
   "outputs": [
    {
     "name": "stdout",
     "output_type": "stream",
     "text": [
      "(78521, 3)\n"
     ]
    },
    {
     "data": {
      "text/html": [
       "<div>\n",
       "<style scoped>\n",
       "    .dataframe tbody tr th:only-of-type {\n",
       "        vertical-align: middle;\n",
       "    }\n",
       "\n",
       "    .dataframe tbody tr th {\n",
       "        vertical-align: top;\n",
       "    }\n",
       "\n",
       "    .dataframe thead th {\n",
       "        text-align: right;\n",
       "    }\n",
       "</style>\n",
       "<table border=\"1\" class=\"dataframe\">\n",
       "  <thead>\n",
       "    <tr style=\"text-align: right;\">\n",
       "      <th></th>\n",
       "      <th>img_id</th>\n",
       "      <th>article_id</th>\n",
       "      <th>headline</th>\n",
       "    </tr>\n",
       "  </thead>\n",
       "  <tbody>\n",
       "    <tr>\n",
       "      <th>0</th>\n",
       "      <td>0002c8b6322446a8a9b8f8abaccb4430</td>\n",
       "      <td>6932c6d6086543c4919b85286687e7f1</td>\n",
       "      <td>The Latest: Avenatti expects to be 'fully exon...</td>\n",
       "    </tr>\n",
       "    <tr>\n",
       "      <th>1</th>\n",
       "      <td>ec054dc8728b4c0bb5207519534a6c1d</td>\n",
       "      <td>6932c6d6086543c4919b85286687e7f1</td>\n",
       "      <td>The Latest: Avenatti expects to be 'fully exon...</td>\n",
       "    </tr>\n",
       "    <tr>\n",
       "      <th>2</th>\n",
       "      <td>f5580c3cb4c84dc4b89a981f00f90309</td>\n",
       "      <td>6932c6d6086543c4919b85286687e7f1</td>\n",
       "      <td>The Latest: Avenatti expects to be 'fully exon...</td>\n",
       "    </tr>\n",
       "    <tr>\n",
       "      <th>3</th>\n",
       "      <td>ffab88527d4944628bfc061d6ac6f6ae</td>\n",
       "      <td>6932c6d6086543c4919b85286687e7f1</td>\n",
       "      <td>The Latest: Avenatti expects to be 'fully exon...</td>\n",
       "    </tr>\n",
       "    <tr>\n",
       "      <th>4</th>\n",
       "      <td>00036662b297400ca0c0819173d61efd</td>\n",
       "      <td>6a3784541f984889ac98770271a62c50</td>\n",
       "      <td>Aging voters in Greece keep traditional campai...</td>\n",
       "    </tr>\n",
       "  </tbody>\n",
       "</table>\n",
       "</div>"
      ],
      "text/plain": [
       "                             img_id                        article_id  \\\n",
       "0  0002c8b6322446a8a9b8f8abaccb4430  6932c6d6086543c4919b85286687e7f1   \n",
       "1  ec054dc8728b4c0bb5207519534a6c1d  6932c6d6086543c4919b85286687e7f1   \n",
       "2  f5580c3cb4c84dc4b89a981f00f90309  6932c6d6086543c4919b85286687e7f1   \n",
       "3  ffab88527d4944628bfc061d6ac6f6ae  6932c6d6086543c4919b85286687e7f1   \n",
       "4  00036662b297400ca0c0819173d61efd  6a3784541f984889ac98770271a62c50   \n",
       "\n",
       "                                            headline  \n",
       "0  The Latest: Avenatti expects to be 'fully exon...  \n",
       "1  The Latest: Avenatti expects to be 'fully exon...  \n",
       "2  The Latest: Avenatti expects to be 'fully exon...  \n",
       "3  The Latest: Avenatti expects to be 'fully exon...  \n",
       "4  Aging voters in Greece keep traditional campai...  "
      ]
     },
     "execution_count": 5,
     "metadata": {},
     "output_type": "execute_result"
    }
   ],
   "source": [
    "# Merging article and image databases\n",
    "full_df = image_df.merge(small_df, on='article_id')\n",
    "print(full_df.shape)\n",
    "full_df.head(5)"
   ]
  },
  {
   "cell_type": "code",
   "execution_count": 6,
   "metadata": {},
   "outputs": [
    {
     "name": "stdout",
     "output_type": "stream",
     "text": [
      "(78521, 3)\n"
     ]
    },
    {
     "data": {
      "text/html": [
       "<div>\n",
       "<style scoped>\n",
       "    .dataframe tbody tr th:only-of-type {\n",
       "        vertical-align: middle;\n",
       "    }\n",
       "\n",
       "    .dataframe tbody tr th {\n",
       "        vertical-align: top;\n",
       "    }\n",
       "\n",
       "    .dataframe thead th {\n",
       "        text-align: right;\n",
       "    }\n",
       "</style>\n",
       "<table border=\"1\" class=\"dataframe\">\n",
       "  <thead>\n",
       "    <tr style=\"text-align: right;\">\n",
       "      <th></th>\n",
       "      <th>img_id</th>\n",
       "      <th>article_id</th>\n",
       "      <th>headline</th>\n",
       "    </tr>\n",
       "  </thead>\n",
       "  <tbody>\n",
       "    <tr>\n",
       "      <th>0</th>\n",
       "      <td>0002c8b6322446a8a9b8f8abaccb4430</td>\n",
       "      <td>6932c6d6086543c4919b85286687e7f1</td>\n",
       "      <td>The Latest: Avenatti expects to be 'fully exon...</td>\n",
       "    </tr>\n",
       "    <tr>\n",
       "      <th>1</th>\n",
       "      <td>ec054dc8728b4c0bb5207519534a6c1d</td>\n",
       "      <td>6932c6d6086543c4919b85286687e7f1</td>\n",
       "      <td>The Latest: Avenatti expects to be 'fully exon...</td>\n",
       "    </tr>\n",
       "    <tr>\n",
       "      <th>2</th>\n",
       "      <td>f5580c3cb4c84dc4b89a981f00f90309</td>\n",
       "      <td>6932c6d6086543c4919b85286687e7f1</td>\n",
       "      <td>The Latest: Avenatti expects to be 'fully exon...</td>\n",
       "    </tr>\n",
       "    <tr>\n",
       "      <th>3</th>\n",
       "      <td>ffab88527d4944628bfc061d6ac6f6ae</td>\n",
       "      <td>6932c6d6086543c4919b85286687e7f1</td>\n",
       "      <td>The Latest: Avenatti expects to be 'fully exon...</td>\n",
       "    </tr>\n",
       "    <tr>\n",
       "      <th>4</th>\n",
       "      <td>00036662b297400ca0c0819173d61efd</td>\n",
       "      <td>6a3784541f984889ac98770271a62c50</td>\n",
       "      <td>Aging voters in Greece keep traditional campai...</td>\n",
       "    </tr>\n",
       "  </tbody>\n",
       "</table>\n",
       "</div>"
      ],
      "text/plain": [
       "                             img_id                        article_id  \\\n",
       "0  0002c8b6322446a8a9b8f8abaccb4430  6932c6d6086543c4919b85286687e7f1   \n",
       "1  ec054dc8728b4c0bb5207519534a6c1d  6932c6d6086543c4919b85286687e7f1   \n",
       "2  f5580c3cb4c84dc4b89a981f00f90309  6932c6d6086543c4919b85286687e7f1   \n",
       "3  ffab88527d4944628bfc061d6ac6f6ae  6932c6d6086543c4919b85286687e7f1   \n",
       "4  00036662b297400ca0c0819173d61efd  6a3784541f984889ac98770271a62c50   \n",
       "\n",
       "                                            headline  \n",
       "0  The Latest: Avenatti expects to be 'fully exon...  \n",
       "1  The Latest: Avenatti expects to be 'fully exon...  \n",
       "2  The Latest: Avenatti expects to be 'fully exon...  \n",
       "3  The Latest: Avenatti expects to be 'fully exon...  \n",
       "4  Aging voters in Greece keep traditional campai...  "
      ]
     },
     "execution_count": 6,
     "metadata": {},
     "output_type": "execute_result"
    }
   ],
   "source": [
    "# Replacing duplicate image ids\n",
    "with open('../data/image_duplicates.txt', 'r') as f:\n",
    "    replace_list = f.readlines()\n",
    "\n",
    "replace_dict = {}\n",
    "for elem in replace_list:\n",
    "    elems = elem.strip().split(',')\n",
    "    value = elems[0]\n",
    "    for i in range(1, len(elems)):\n",
    "        replace_dict[elems[i]] = value\n",
    "\n",
    "full_df['img_id'] = [replace_dict[v] if v in replace_dict.keys() else v for v in full_df['img_id']]\n",
    "print(full_df.shape)\n",
    "full_df.head()"
   ]
  },
  {
   "cell_type": "code",
   "execution_count": 7,
   "metadata": {},
   "outputs": [
    {
     "data": {
      "text/plain": [
       "78021"
      ]
     },
     "execution_count": 7,
     "metadata": {},
     "output_type": "execute_result"
    }
   ],
   "source": [
    "len(full_df['img_id'].unique())"
   ]
  },
  {
   "cell_type": "code",
   "execution_count": 8,
   "metadata": {},
   "outputs": [
    {
     "data": {
      "text/plain": [
       "501"
      ]
     },
     "execution_count": 8,
     "metadata": {},
     "output_type": "execute_result"
    }
   ],
   "source": [
    "len(replace_dict)"
   ]
  },
  {
   "cell_type": "markdown",
   "metadata": {},
   "source": [
    "#### Preprocessing"
   ]
  },
  {
   "cell_type": "code",
   "execution_count": null,
   "metadata": {},
   "outputs": [],
   "source": [
    "# Label encoding\n",
    "le_img = LabelEncoder().fit(full_df['img_id'])\n",
    "full_df['img_id'] = le_img.transform(full_df['img_id'])\n",
    "\n",
    "le_art = LabelEncoder().fit(full_df['article_id'])\n",
    "full_df['article_id'] = le_art.transform(full_df['article_id'])\n",
    "\n",
    "print(full_df.shape)\n",
    "full_df.head()"
   ]
  },
  {
   "cell_type": "markdown",
   "metadata": {},
   "source": [
    "#### Train-Test Split"
   ]
  },
  {
   "cell_type": "code",
   "execution_count": null,
   "metadata": {},
   "outputs": [],
   "source": [
    "train_df = full_df[full_df['article_id'] < int(0.8*len(full_df['article_id'].unique()))]\n",
    "test_df = full_df[full_df['article_id'] > int(0.8*len(full_df['article_id'].unique()))]\n",
    "print(train_df.shape, test_df.shape)"
   ]
  },
  {
   "cell_type": "markdown",
   "metadata": {},
   "source": [
    "#### Headline Representation using TF-IDF and Truncated SVD (for dimensionality reduction)"
   ]
  },
  {
   "cell_type": "code",
   "execution_count": null,
   "metadata": {},
   "outputs": [],
   "source": [
    "# TF-IDF vectorizer\n",
    "tfidf = TfidfVectorizer(sublinear_tf=True, min_df=5, norm='l2', ngram_range=(1, 2), stop_words='english')\n",
    "features = tfidf.fit(train_df['headline'])\n",
    "transform_train = tfidf.transform(train_df['headline'])\n",
    "transform_test = tfidf.transform(test_df['headline'])\n",
    "\n",
    "# Truncated SVD\n",
    "tsvd = TruncatedSVD(n_components=1000).fit(transform_train)\n",
    "tsvd_transform_train = pd.DataFrame(tsvd.transform(transform_train))\n",
    "tsvd_transform_test = pd.DataFrame(tsvd.transform(transform_test))\n",
    "\n",
    "# Printing Shapes\n",
    "print(tsvd_transform_train.shape, tsvd_transform_test.shape)"
   ]
  },
  {
   "cell_type": "code",
   "execution_count": null,
   "metadata": {},
   "outputs": [],
   "source": [
    "print(train_df.shape, tsvd_transform_train.shape)\n",
    "print(test_df.shape, tsvd_transform_test.shape)"
   ]
  },
  {
   "cell_type": "code",
   "execution_count": null,
   "metadata": {},
   "outputs": [],
   "source": [
    "# Concatenating the TF-IDF matrix back to the dataframe\n",
    "train_df_svd = pd.concat([train_df.reset_index(drop=True), tsvd_transform_train.reset_index(drop=True)], axis=1)\n",
    "test_df_svd = pd.concat([test_df.reset_index(drop=True), tsvd_transform_test.reset_index(drop=True)], axis=1)\n",
    "\n",
    "# Dropping the headline\n",
    "train_df_svd = train_df_svd.drop(['headline', 'article_id'], axis=1)\n",
    "test_df_svd = test_df_svd.drop(['headline', 'article_id'], axis=1)\n",
    "\n",
    "# Sanity checks\n",
    "print(train_df_svd.isnull().sum().max(), test_df_svd.isnull().sum().max())\n",
    "print(train_df_svd.shape, test_df_svd.shape)\n",
    "train_df_svd.head()"
   ]
  },
  {
   "cell_type": "code",
   "execution_count": null,
   "metadata": {},
   "outputs": [],
   "source": [
    "# train and test x and y\n",
    "y_train = train_df_svd['img_id']\n",
    "x_train = train_df_svd[train_df_svd.columns.difference(['img_id'])]\n",
    "\n",
    "y_test = test_df_svd['img_id']\n",
    "x_test = test_df_svd[train_df_svd.columns.difference(['img_id'])]\n",
    "\n",
    "print(x_train.shape, y_train.shape, x_test.shape, y_test.shape)"
   ]
  },
  {
   "cell_type": "markdown",
   "metadata": {},
   "source": [
    "## Modeling"
   ]
  },
  {
   "cell_type": "markdown",
   "metadata": {},
   "source": [
    "#### Logistic Regression"
   ]
  },
  {
   "cell_type": "code",
   "execution_count": null,
   "metadata": {},
   "outputs": [],
   "source": [
    "clf = LogisticRegression(solver='lbfgs', multi_class='multinomial').fit(x_train, y_train)"
   ]
  },
  {
   "cell_type": "markdown",
   "metadata": {},
   "source": [
    "---"
   ]
  }
 ],
 "metadata": {
  "kernelspec": {
   "display_name": "Python 2",
   "language": "python",
   "name": "python2"
  },
  "language_info": {
   "codemirror_mode": {
    "name": "ipython",
    "version": 2
   },
   "file_extension": ".py",
   "mimetype": "text/x-python",
   "name": "python",
   "nbconvert_exporter": "python",
   "pygments_lexer": "ipython2",
   "version": "2.7.15"
  }
 },
 "nbformat": 4,
 "nbformat_minor": 2
}
